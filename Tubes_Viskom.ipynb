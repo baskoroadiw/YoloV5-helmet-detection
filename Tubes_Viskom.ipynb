{
  "nbformat": 4,
  "nbformat_minor": 0,
  "metadata": {
    "colab": {
      "name": "Tubes Viskom.ipynb",
      "provenance": [],
      "collapsed_sections": [],
      "machine_shape": "hm",
      "authorship_tag": "ABX9TyOj+wTnc0e2kLsA+myl0rlP",
      "include_colab_link": true
    },
    "kernelspec": {
      "name": "python3",
      "display_name": "Python 3"
    },
    "language_info": {
      "name": "python"
    },
    "accelerator": "GPU",
    "gpuClass": "standard",
    "widgets": {
      "application/vnd.jupyter.widget-state+json": {
        "592094dcb35f4f39a738d8fb444d9a11": {
          "model_module": "@jupyter-widgets/controls",
          "model_name": "VBoxModel",
          "model_module_version": "1.5.0",
          "state": {
            "_dom_classes": [],
            "_model_module": "@jupyter-widgets/controls",
            "_model_module_version": "1.5.0",
            "_model_name": "VBoxModel",
            "_view_count": null,
            "_view_module": "@jupyter-widgets/controls",
            "_view_module_version": "1.5.0",
            "_view_name": "VBoxView",
            "box_style": "",
            "children": [
              "IPY_MODEL_e06c4c9d82eb433d85cb9233df46ca09",
              "IPY_MODEL_a254a9bf896d4d33aa691243c14f0694"
            ],
            "layout": "IPY_MODEL_51d7fcb52584468b9d8ff3168843ed2a"
          }
        },
        "e06c4c9d82eb433d85cb9233df46ca09": {
          "model_module": "@jupyter-widgets/controls",
          "model_name": "LabelModel",
          "model_module_version": "1.5.0",
          "state": {
            "_dom_classes": [],
            "_model_module": "@jupyter-widgets/controls",
            "_model_module_version": "1.5.0",
            "_model_name": "LabelModel",
            "_view_count": null,
            "_view_module": "@jupyter-widgets/controls",
            "_view_module_version": "1.5.0",
            "_view_name": "LabelView",
            "description": "",
            "description_tooltip": null,
            "layout": "IPY_MODEL_143d63dfe5094124897cdf28396b4d9d",
            "placeholder": "​",
            "style": "IPY_MODEL_15ed42f393294d94bc83576d51d6b17f",
            "value": "0.163 MB of 0.163 MB uploaded (0.000 MB deduped)\r"
          }
        },
        "a254a9bf896d4d33aa691243c14f0694": {
          "model_module": "@jupyter-widgets/controls",
          "model_name": "FloatProgressModel",
          "model_module_version": "1.5.0",
          "state": {
            "_dom_classes": [],
            "_model_module": "@jupyter-widgets/controls",
            "_model_module_version": "1.5.0",
            "_model_name": "FloatProgressModel",
            "_view_count": null,
            "_view_module": "@jupyter-widgets/controls",
            "_view_module_version": "1.5.0",
            "_view_name": "ProgressView",
            "bar_style": "",
            "description": "",
            "description_tooltip": null,
            "layout": "IPY_MODEL_53c42199bc1f4153a72d27bd5c688be5",
            "max": 1,
            "min": 0,
            "orientation": "horizontal",
            "style": "IPY_MODEL_01b2ea50ad794d0d83e5aababe08a9df",
            "value": 1
          }
        },
        "51d7fcb52584468b9d8ff3168843ed2a": {
          "model_module": "@jupyter-widgets/base",
          "model_name": "LayoutModel",
          "model_module_version": "1.2.0",
          "state": {
            "_model_module": "@jupyter-widgets/base",
            "_model_module_version": "1.2.0",
            "_model_name": "LayoutModel",
            "_view_count": null,
            "_view_module": "@jupyter-widgets/base",
            "_view_module_version": "1.2.0",
            "_view_name": "LayoutView",
            "align_content": null,
            "align_items": null,
            "align_self": null,
            "border": null,
            "bottom": null,
            "display": null,
            "flex": null,
            "flex_flow": null,
            "grid_area": null,
            "grid_auto_columns": null,
            "grid_auto_flow": null,
            "grid_auto_rows": null,
            "grid_column": null,
            "grid_gap": null,
            "grid_row": null,
            "grid_template_areas": null,
            "grid_template_columns": null,
            "grid_template_rows": null,
            "height": null,
            "justify_content": null,
            "justify_items": null,
            "left": null,
            "margin": null,
            "max_height": null,
            "max_width": null,
            "min_height": null,
            "min_width": null,
            "object_fit": null,
            "object_position": null,
            "order": null,
            "overflow": null,
            "overflow_x": null,
            "overflow_y": null,
            "padding": null,
            "right": null,
            "top": null,
            "visibility": null,
            "width": null
          }
        },
        "143d63dfe5094124897cdf28396b4d9d": {
          "model_module": "@jupyter-widgets/base",
          "model_name": "LayoutModel",
          "model_module_version": "1.2.0",
          "state": {
            "_model_module": "@jupyter-widgets/base",
            "_model_module_version": "1.2.0",
            "_model_name": "LayoutModel",
            "_view_count": null,
            "_view_module": "@jupyter-widgets/base",
            "_view_module_version": "1.2.0",
            "_view_name": "LayoutView",
            "align_content": null,
            "align_items": null,
            "align_self": null,
            "border": null,
            "bottom": null,
            "display": null,
            "flex": null,
            "flex_flow": null,
            "grid_area": null,
            "grid_auto_columns": null,
            "grid_auto_flow": null,
            "grid_auto_rows": null,
            "grid_column": null,
            "grid_gap": null,
            "grid_row": null,
            "grid_template_areas": null,
            "grid_template_columns": null,
            "grid_template_rows": null,
            "height": null,
            "justify_content": null,
            "justify_items": null,
            "left": null,
            "margin": null,
            "max_height": null,
            "max_width": null,
            "min_height": null,
            "min_width": null,
            "object_fit": null,
            "object_position": null,
            "order": null,
            "overflow": null,
            "overflow_x": null,
            "overflow_y": null,
            "padding": null,
            "right": null,
            "top": null,
            "visibility": null,
            "width": null
          }
        },
        "15ed42f393294d94bc83576d51d6b17f": {
          "model_module": "@jupyter-widgets/controls",
          "model_name": "DescriptionStyleModel",
          "model_module_version": "1.5.0",
          "state": {
            "_model_module": "@jupyter-widgets/controls",
            "_model_module_version": "1.5.0",
            "_model_name": "DescriptionStyleModel",
            "_view_count": null,
            "_view_module": "@jupyter-widgets/base",
            "_view_module_version": "1.2.0",
            "_view_name": "StyleView",
            "description_width": ""
          }
        },
        "53c42199bc1f4153a72d27bd5c688be5": {
          "model_module": "@jupyter-widgets/base",
          "model_name": "LayoutModel",
          "model_module_version": "1.2.0",
          "state": {
            "_model_module": "@jupyter-widgets/base",
            "_model_module_version": "1.2.0",
            "_model_name": "LayoutModel",
            "_view_count": null,
            "_view_module": "@jupyter-widgets/base",
            "_view_module_version": "1.2.0",
            "_view_name": "LayoutView",
            "align_content": null,
            "align_items": null,
            "align_self": null,
            "border": null,
            "bottom": null,
            "display": null,
            "flex": null,
            "flex_flow": null,
            "grid_area": null,
            "grid_auto_columns": null,
            "grid_auto_flow": null,
            "grid_auto_rows": null,
            "grid_column": null,
            "grid_gap": null,
            "grid_row": null,
            "grid_template_areas": null,
            "grid_template_columns": null,
            "grid_template_rows": null,
            "height": null,
            "justify_content": null,
            "justify_items": null,
            "left": null,
            "margin": null,
            "max_height": null,
            "max_width": null,
            "min_height": null,
            "min_width": null,
            "object_fit": null,
            "object_position": null,
            "order": null,
            "overflow": null,
            "overflow_x": null,
            "overflow_y": null,
            "padding": null,
            "right": null,
            "top": null,
            "visibility": null,
            "width": null
          }
        },
        "01b2ea50ad794d0d83e5aababe08a9df": {
          "model_module": "@jupyter-widgets/controls",
          "model_name": "ProgressStyleModel",
          "model_module_version": "1.5.0",
          "state": {
            "_model_module": "@jupyter-widgets/controls",
            "_model_module_version": "1.5.0",
            "_model_name": "ProgressStyleModel",
            "_view_count": null,
            "_view_module": "@jupyter-widgets/base",
            "_view_module_version": "1.2.0",
            "_view_name": "StyleView",
            "bar_color": null,
            "description_width": ""
          }
        }
      }
    }
  },
  "cells": [
    {
      "cell_type": "markdown",
      "metadata": {
        "id": "view-in-github",
        "colab_type": "text"
      },
      "source": [
        "<a href=\"https://colab.research.google.com/github/baskoroadiw/tugasbesar-visikomputer/blob/master/Tubes_Viskom.ipynb\" target=\"_parent\"><img src=\"https://colab.research.google.com/assets/colab-badge.svg\" alt=\"Open In Colab\"/></a>"
      ]
    },
    {
      "cell_type": "markdown",
      "source": [
        "## **Tugas Besar Visi Komputer**\n",
        "\n",
        "Nama Anggota : <br>\n",
        "- Baskoro Adi Wicaksono (1301208521) <br>\n",
        "- Devani Paundrianagari Nairda (1301208520) <br>\n",
        "- Rahmat Tobi Hidayat (1301208530)"
      ],
      "metadata": {
        "id": "Grssiwt9aIA9"
      }
    },
    {
      "cell_type": "markdown",
      "source": [
        "# Check GPU"
      ],
      "metadata": {
        "id": "xoySaFoMac8x"
      }
    },
    {
      "cell_type": "code",
      "source": [
        "gpu_info = !nvidia-smi\n",
        "gpu_info = '\\n'.join(gpu_info)\n",
        "if gpu_info.find('failed') >= 0:\n",
        "  print('Not connected to a GPU')\n",
        "else:\n",
        "  print(gpu_info)"
      ],
      "metadata": {
        "id": "hd3Pzjm10PfR",
        "colab": {
          "base_uri": "https://localhost:8080/"
        },
        "outputId": "321b998f-8cf7-46b1-8c79-d4bfb9287d30"
      },
      "execution_count": null,
      "outputs": [
        {
          "output_type": "stream",
          "name": "stdout",
          "text": [
            "Thu Jun 23 07:26:47 2022       \n",
            "+-----------------------------------------------------------------------------+\n",
            "| NVIDIA-SMI 460.32.03    Driver Version: 460.32.03    CUDA Version: 11.2     |\n",
            "|-------------------------------+----------------------+----------------------+\n",
            "| GPU  Name        Persistence-M| Bus-Id        Disp.A | Volatile Uncorr. ECC |\n",
            "| Fan  Temp  Perf  Pwr:Usage/Cap|         Memory-Usage | GPU-Util  Compute M. |\n",
            "|                               |                      |               MIG M. |\n",
            "|===============================+======================+======================|\n",
            "|   0  Tesla P100-PCIE...  Off  | 00000000:00:04.0 Off |                    0 |\n",
            "| N/A   52C    P0    32W / 250W |      0MiB / 16280MiB |      0%      Default |\n",
            "|                               |                      |                  N/A |\n",
            "+-------------------------------+----------------------+----------------------+\n",
            "                                                                               \n",
            "+-----------------------------------------------------------------------------+\n",
            "| Processes:                                                                  |\n",
            "|  GPU   GI   CI        PID   Type   Process name                  GPU Memory |\n",
            "|        ID   ID                                                   Usage      |\n",
            "|=============================================================================|\n",
            "|  No running processes found                                                 |\n",
            "+-----------------------------------------------------------------------------+\n"
          ]
        }
      ]
    },
    {
      "cell_type": "markdown",
      "source": [
        "# Define Hyperparameter"
      ],
      "metadata": {
        "id": "-9Jb31d8ahQB"
      }
    },
    {
      "cell_type": "code",
      "source": [
        "# Variable\n",
        "\n",
        "batch_size = 32\n",
        "epochs = 100\n",
        "img_size = 416\n",
        "model_name = \"yolov5s\""
      ],
      "metadata": {
        "id": "Bf7lb19HLvJQ"
      },
      "execution_count": null,
      "outputs": []
    },
    {
      "cell_type": "markdown",
      "source": [
        "# Import & Install"
      ],
      "metadata": {
        "id": "FsootGmPam-e"
      }
    },
    {
      "cell_type": "code",
      "source": [
        "!git clone https://github.com/ultralytics/yolov5  # clone\n",
        "%cd yolov5\n",
        "%pip install -qr requirements.txt  # install"
      ],
      "metadata": {
        "id": "NP2x46SP0M-u",
        "colab": {
          "base_uri": "https://localhost:8080/"
        },
        "outputId": "aee88c38-906f-4fc6-a10c-cc165ffa0657"
      },
      "execution_count": null,
      "outputs": [
        {
          "output_type": "stream",
          "name": "stdout",
          "text": [
            "Cloning into 'yolov5'...\n",
            "remote: Enumerating objects: 12270, done.\u001b[K\n",
            "remote: Counting objects: 100% (20/20), done.\u001b[K\n",
            "remote: Compressing objects: 100% (19/19), done.\u001b[K\n",
            "remote: Total 12270 (delta 5), reused 9 (delta 1), pack-reused 12250\u001b[K\n",
            "Receiving objects: 100% (12270/12270), 12.04 MiB | 32.70 MiB/s, done.\n",
            "Resolving deltas: 100% (8491/8491), done.\n",
            "/content/yolov5\n",
            "\u001b[K     |████████████████████████████████| 596 kB 5.1 MB/s \n",
            "\u001b[?25h"
          ]
        }
      ]
    },
    {
      "cell_type": "code",
      "source": [
        "pip install -U albumentations opencv-python --quiet"
      ],
      "metadata": {
        "id": "rQD1r4Tm0wJX",
        "colab": {
          "base_uri": "https://localhost:8080/"
        },
        "outputId": "5955380b-e41b-447d-acd1-21ca6670a4e3"
      },
      "execution_count": null,
      "outputs": [
        {
          "output_type": "stream",
          "name": "stdout",
          "text": [
            "\u001b[K     |████████████████████████████████| 113 kB 5.1 MB/s \n",
            "\u001b[K     |████████████████████████████████| 60.9 MB 1.4 MB/s \n",
            "\u001b[K     |████████████████████████████████| 48.3 MB 1.5 MB/s \n",
            "\u001b[?25h"
          ]
        }
      ]
    },
    {
      "cell_type": "code",
      "source": [
        "import torch\n",
        "from yolov5 import utils\n",
        "display = utils.notebook_init()  # checks"
      ],
      "metadata": {
        "id": "11kJYi489FW2",
        "colab": {
          "base_uri": "https://localhost:8080/"
        },
        "outputId": "95a555c4-001c-43d4-a625-13d77bea0071"
      },
      "execution_count": null,
      "outputs": [
        {
          "output_type": "stream",
          "name": "stderr",
          "text": [
            "YOLOv5 🚀 v6.1-259-ga2a1ed2 Python-3.7.13 torch-1.11.0+cu113 CUDA:0 (Tesla P100-PCIE-16GB, 16281MiB)\n"
          ]
        },
        {
          "output_type": "stream",
          "name": "stdout",
          "text": [
            "Setup complete ✅ (4 CPUs, 25.5 GB RAM, 39.1/166.8 GB disk)\n"
          ]
        }
      ]
    },
    {
      "cell_type": "code",
      "execution_count": null,
      "metadata": {
        "id": "3hl-98P-WrQI"
      },
      "outputs": [],
      "source": [
        "import os\n",
        "import numpy as np\n",
        "import gdown\n",
        "from xml.dom.minidom import parse\n",
        "from pathlib import Path\n",
        "from shutil import copyfile\n",
        "import datetime\n",
        "import matplotlib.image as img\n",
        "import matplotlib.pyplot as plt"
      ]
    },
    {
      "cell_type": "markdown",
      "source": [
        "# WANDB"
      ],
      "metadata": {
        "id": "01VCvIBf62sf"
      }
    },
    {
      "cell_type": "code",
      "source": [
        "!pip install wandb -qqq"
      ],
      "metadata": {
        "id": "WS7UjkRzfmwU",
        "colab": {
          "base_uri": "https://localhost:8080/"
        },
        "outputId": "a882a760-0f48-4e48-cd63-f1d14929adf7"
      },
      "execution_count": null,
      "outputs": [
        {
          "output_type": "stream",
          "name": "stdout",
          "text": [
            "\u001b[K     |████████████████████████████████| 1.8 MB 5.1 MB/s \n",
            "\u001b[K     |████████████████████████████████| 145 kB 52.5 MB/s \n",
            "\u001b[K     |████████████████████████████████| 181 kB 54.6 MB/s \n",
            "\u001b[K     |████████████████████████████████| 63 kB 1.6 MB/s \n",
            "\u001b[?25h  Building wheel for pathtools (setup.py) ... \u001b[?25l\u001b[?25hdone\n"
          ]
        }
      ]
    },
    {
      "cell_type": "code",
      "execution_count": null,
      "metadata": {
        "id": "XkF0Yjbzfe_Y",
        "colab": {
          "base_uri": "https://localhost:8080/",
          "height": 69
        },
        "outputId": "19b5f066-3bc0-4dad-f21a-a1883a4aaaed"
      },
      "outputs": [
        {
          "output_type": "display_data",
          "data": {
            "text/plain": [
              "<IPython.core.display.Javascript object>"
            ],
            "application/javascript": [
              "\n",
              "        window._wandbApiKey = new Promise((resolve, reject) => {\n",
              "            function loadScript(url) {\n",
              "            return new Promise(function(resolve, reject) {\n",
              "                let newScript = document.createElement(\"script\");\n",
              "                newScript.onerror = reject;\n",
              "                newScript.onload = resolve;\n",
              "                document.body.appendChild(newScript);\n",
              "                newScript.src = url;\n",
              "            });\n",
              "            }\n",
              "            loadScript(\"https://cdn.jsdelivr.net/npm/postmate/build/postmate.min.js\").then(() => {\n",
              "            const iframe = document.createElement('iframe')\n",
              "            iframe.style.cssText = \"width:0;height:0;border:none\"\n",
              "            document.body.appendChild(iframe)\n",
              "            const handshake = new Postmate({\n",
              "                container: iframe,\n",
              "                url: 'https://wandb.ai/authorize'\n",
              "            });\n",
              "            const timeout = setTimeout(() => reject(\"Couldn't auto authenticate\"), 5000)\n",
              "            handshake.then(function(child) {\n",
              "                child.on('authorize', data => {\n",
              "                    clearTimeout(timeout)\n",
              "                    resolve(data)\n",
              "                });\n",
              "            });\n",
              "            })\n",
              "        });\n",
              "    "
            ]
          },
          "metadata": {}
        },
        {
          "output_type": "stream",
          "name": "stderr",
          "text": [
            "\u001b[34m\u001b[1mwandb\u001b[0m: Appending key for api.wandb.ai to your netrc file: /root/.netrc\n"
          ]
        },
        {
          "output_type": "execute_result",
          "data": {
            "text/plain": [
              "True"
            ]
          },
          "metadata": {},
          "execution_count": 8
        }
      ],
      "source": [
        "import wandb\n",
        "from wandb.keras import WandbCallback\n",
        "\n",
        "wandb.login()"
      ]
    },
    {
      "cell_type": "markdown",
      "source": [
        "# Download Data"
      ],
      "metadata": {
        "id": "6ag5pUTD6ngO"
      }
    },
    {
      "cell_type": "code",
      "source": [
        "%cd /content\n",
        "\n",
        "gdown.download(id='1uhuTpAt8LaSUxJ7yB6NDaCvpWRoxPSnx')"
      ],
      "metadata": {
        "id": "AMM-1uq0atca",
        "colab": {
          "base_uri": "https://localhost:8080/",
          "height": 122
        },
        "outputId": "4c843b10-3288-4460-f063-79ad4b26336f"
      },
      "execution_count": null,
      "outputs": [
        {
          "output_type": "stream",
          "name": "stdout",
          "text": [
            "/content\n"
          ]
        },
        {
          "output_type": "stream",
          "name": "stderr",
          "text": [
            "Downloading...\n",
            "From: https://drive.google.com/uc?id=1uhuTpAt8LaSUxJ7yB6NDaCvpWRoxPSnx\n",
            "To: /content/kaggle.json\n",
            "100%|██████████| 66.0/66.0 [00:00<00:00, 60.5kB/s]\n"
          ]
        },
        {
          "output_type": "execute_result",
          "data": {
            "text/plain": [
              "'kaggle.json'"
            ],
            "application/vnd.google.colaboratory.intrinsic+json": {
              "type": "string"
            }
          },
          "metadata": {},
          "execution_count": 9
        }
      ]
    },
    {
      "cell_type": "code",
      "source": [
        "! pip install kaggle\n",
        "\n",
        "! mkdir ~/.kaggle\n",
        "! mv kaggle.json ~/.kaggle/kaggle.json\n",
        "! chmod 600 ~/.kaggle/kaggle.json"
      ],
      "metadata": {
        "id": "qEqjeSs4bjJY",
        "colab": {
          "base_uri": "https://localhost:8080/"
        },
        "outputId": "28eba86c-51f4-479d-aafc-a4af61d34bb6"
      },
      "execution_count": null,
      "outputs": [
        {
          "output_type": "stream",
          "name": "stdout",
          "text": [
            "Looking in indexes: https://pypi.org/simple, https://us-python.pkg.dev/colab-wheels/public/simple/\n",
            "Requirement already satisfied: kaggle in /usr/local/lib/python3.7/dist-packages (1.5.12)\n",
            "Requirement already satisfied: urllib3 in /usr/local/lib/python3.7/dist-packages (from kaggle) (1.24.3)\n",
            "Requirement already satisfied: certifi in /usr/local/lib/python3.7/dist-packages (from kaggle) (2022.6.15)\n",
            "Requirement already satisfied: python-slugify in /usr/local/lib/python3.7/dist-packages (from kaggle) (6.1.2)\n",
            "Requirement already satisfied: tqdm in /usr/local/lib/python3.7/dist-packages (from kaggle) (4.64.0)\n",
            "Requirement already satisfied: requests in /usr/local/lib/python3.7/dist-packages (from kaggle) (2.23.0)\n",
            "Requirement already satisfied: six>=1.10 in /usr/local/lib/python3.7/dist-packages (from kaggle) (1.15.0)\n",
            "Requirement already satisfied: python-dateutil in /usr/local/lib/python3.7/dist-packages (from kaggle) (2.8.2)\n",
            "Requirement already satisfied: text-unidecode>=1.3 in /usr/local/lib/python3.7/dist-packages (from python-slugify->kaggle) (1.3)\n",
            "Requirement already satisfied: chardet<4,>=3.0.2 in /usr/local/lib/python3.7/dist-packages (from requests->kaggle) (3.0.4)\n",
            "Requirement already satisfied: idna<3,>=2.5 in /usr/local/lib/python3.7/dist-packages (from requests->kaggle) (2.10)\n"
          ]
        }
      ]
    },
    {
      "cell_type": "code",
      "source": [
        "! kaggle datasets download andrewmvd/hard-hat-detection"
      ],
      "metadata": {
        "id": "Zxm2vsHmc4Xp",
        "colab": {
          "base_uri": "https://localhost:8080/"
        },
        "outputId": "6f176c2e-d7b2-45c9-a37b-20f36a9a2147"
      },
      "execution_count": null,
      "outputs": [
        {
          "output_type": "stream",
          "name": "stdout",
          "text": [
            "Downloading hard-hat-detection.zip to /content\n",
            " 99% 1.21G/1.22G [00:08<00:00, 161MB/s]\n",
            "100% 1.22G/1.22G [00:08<00:00, 148MB/s]\n"
          ]
        }
      ]
    },
    {
      "cell_type": "code",
      "execution_count": null,
      "metadata": {
        "id": "uzt6ZBCLNYSj"
      },
      "outputs": [],
      "source": [
        "! unzip -qq '/content/hard-hat-detection.zip'"
      ]
    },
    {
      "cell_type": "markdown",
      "source": [
        "# Load & Split Data"
      ],
      "metadata": {
        "id": "ydaNhdzoNddr"
      }
    },
    {
      "cell_type": "code",
      "source": [
        "!mkdir -p Dataset/labels\n",
        "!mkdir -p Dataset/images"
      ],
      "metadata": {
        "id": "zLsVo9_1ep9p"
      },
      "execution_count": null,
      "outputs": []
    },
    {
      "cell_type": "code",
      "source": [
        "classes = ['helmet','head']"
      ],
      "metadata": {
        "id": "g2Lga0JLfaRy"
      },
      "execution_count": null,
      "outputs": []
    },
    {
      "cell_type": "code",
      "source": [
        "def convert_annot(size , box):\n",
        "    x1 = int(box[0])\n",
        "    y1 = int(box[1])\n",
        "    x2 = int(box[2])\n",
        "    y2 = int(box[3])\n",
        "\n",
        "    dw = np.float32(1. / int(size[0]))\n",
        "    dh = np.float32(1. / int(size[1]))\n",
        "\n",
        "    w = x2 - x1\n",
        "    h = y2 - y1\n",
        "    x = x1 + (w / 2)\n",
        "    y = y1 + (h / 2)\n",
        "\n",
        "    x = x * dw\n",
        "    w = w * dw\n",
        "    y = y * dh\n",
        "    h = h * dh\n",
        "    return [x, y, w, h]"
      ],
      "metadata": {
        "id": "8KEmMOdDfif5"
      },
      "execution_count": null,
      "outputs": []
    },
    {
      "cell_type": "code",
      "source": [
        "def save_txt_file(img_jpg_file_name, size, img_box):\n",
        "    save_file_name = 'Dataset/labels/' +  img_jpg_file_name + '.txt'\n",
        "    with open(save_file_name ,'a+') as file_path:\n",
        "        for box in img_box:\n",
        "\n",
        "            if(box[0] != \"person\"):\n",
        "\n",
        "              cls_num = classes.index(box[0])\n",
        "\n",
        "              new_box = convert_annot(size, box[1:])\n",
        "\n",
        "              file_path.write(f\"{cls_num} {new_box[0]} {new_box[1]} {new_box[2]} {new_box[3]}\\n\")\n",
        "\n",
        "        file_path.flush()\n",
        "        file_path.close()"
      ],
      "metadata": {
        "id": "8A1J2ECMfk_5"
      },
      "execution_count": null,
      "outputs": []
    },
    {
      "cell_type": "code",
      "source": [
        "def get_xml_data(file_path, img_xml_file):\n",
        "    img_path = file_path + '/' + img_xml_file + '.xml'\n",
        "\n",
        "    dom = parse(img_path)\n",
        "    root = dom.documentElement\n",
        "    img_name = root.getElementsByTagName(\"filename\")[0].childNodes[0].data\n",
        "    img_size = root.getElementsByTagName(\"size\")[0]\n",
        "    objects = root.getElementsByTagName(\"object\")\n",
        "    img_w = img_size.getElementsByTagName(\"width\")[0].childNodes[0].data\n",
        "    img_h = img_size.getElementsByTagName(\"height\")[0].childNodes[0].data\n",
        "    img_c = img_size.getElementsByTagName(\"depth\")[0].childNodes[0].data\n",
        "   \n",
        "    img_box = []\n",
        "    for box in objects:\n",
        "        cls_name = box.getElementsByTagName(\"name\")[0].childNodes[0].data\n",
        "        x1 = int(box.getElementsByTagName(\"xmin\")[0].childNodes[0].data)\n",
        "        y1 = int(box.getElementsByTagName(\"ymin\")[0].childNodes[0].data)\n",
        "        x2 = int(box.getElementsByTagName(\"xmax\")[0].childNodes[0].data)\n",
        "        y2 = int(box.getElementsByTagName(\"ymax\")[0].childNodes[0].data)\n",
        "        \n",
        "        img_jpg_file_name = img_xml_file + '.jpg'\n",
        "        img_box.append([cls_name, x1, y1, x2, y2])\n",
        "  \n",
        "    save_txt_file(img_xml_file, [img_w, img_h], img_box)"
      ],
      "metadata": {
        "id": "nHAlVrsnfm59"
      },
      "execution_count": null,
      "outputs": []
    },
    {
      "cell_type": "code",
      "source": [
        "files = os.listdir('annotations')\n",
        "for file in files:\n",
        "    file_xml = file.split(\".\")\n",
        "    get_xml_data('annotations', file_xml[0])"
      ],
      "metadata": {
        "id": "DqFIBqopfqet"
      },
      "execution_count": null,
      "outputs": []
    },
    {
      "cell_type": "code",
      "source": [
        "from sklearn.model_selection import train_test_split\n",
        "image_list = os.listdir('images')\n",
        "train_list, test_list = train_test_split(image_list, test_size=0.2, random_state=42)\n",
        "val_list, test_list = train_test_split(test_list, test_size=0.5, random_state=42)\n",
        "print('total =',len(image_list))\n",
        "print('train :',len(train_list))\n",
        "print('val   :',len(val_list))\n",
        "print('test  :',len(test_list))"
      ],
      "metadata": {
        "id": "q2ysSZKCkfhH",
        "colab": {
          "base_uri": "https://localhost:8080/"
        },
        "outputId": "03daa76b-e1d9-4bac-9ef5-e91aaab2bfb1"
      },
      "execution_count": null,
      "outputs": [
        {
          "output_type": "stream",
          "name": "stdout",
          "text": [
            "total = 5000\n",
            "train : 4000\n",
            "val   : 500\n",
            "test  : 500\n"
          ]
        }
      ]
    },
    {
      "cell_type": "code",
      "source": [
        "def copy_data(file_list, img_labels_root, imgs_source, mode):\n",
        "\n",
        "    root_file = Path( 'Dataset/images/'+  mode)\n",
        "    if not root_file.exists():\n",
        "        print(f\"Path {root_file} does not exist\")\n",
        "        os.makedirs(root_file)\n",
        "\n",
        "    root_file = Path('Dataset/labels/' + mode)\n",
        "    if not root_file.exists():\n",
        "        print(f\"Path {root_file} does not exist\")\n",
        "        os.makedirs(root_file)\n",
        "\n",
        "    for file in file_list:               \n",
        "        img_name = file.replace('.png', '')        \n",
        "        img_src_file = imgs_source + '/' + img_name + '.png'        \n",
        "        label_src_file = img_labels_root + '/' + img_name + '.txt'\n",
        "\n",
        "        # Copy image\n",
        "        DICT_DIR = 'Dataset/images/'  + mode\n",
        "        img_dict_file = DICT_DIR + '/' + img_name + '.png'\n",
        "\n",
        "        copyfile(img_src_file, img_dict_file)\n",
        "\n",
        "        # Copy label\n",
        "        DICT_DIR = 'Dataset/labels/' + mode\n",
        "        img_dict_file = DICT_DIR + '/' + img_name + '.txt'\n",
        "        copyfile(label_src_file, img_dict_file)"
      ],
      "metadata": {
        "id": "sWVFWJ5NknR_"
      },
      "execution_count": null,
      "outputs": []
    },
    {
      "cell_type": "code",
      "source": [
        "copy_data(train_list, 'Dataset/labels', 'images', \"train\")\n",
        "copy_data(val_list,   'Dataset/labels', 'images', \"val\")\n",
        "copy_data(test_list,  'Dataset/labels', 'images', \"test\")"
      ],
      "metadata": {
        "id": "Z0uh2CZslJLc",
        "colab": {
          "base_uri": "https://localhost:8080/"
        },
        "outputId": "d4492c5b-4923-430b-d109-d27ee289e230"
      },
      "execution_count": null,
      "outputs": [
        {
          "output_type": "stream",
          "name": "stdout",
          "text": [
            "Path Dataset/images/train does not exist\n",
            "Path Dataset/labels/train does not exist\n",
            "Path Dataset/images/val does not exist\n",
            "Path Dataset/labels/val does not exist\n",
            "Path Dataset/images/test does not exist\n",
            "Path Dataset/labels/test does not exist\n"
          ]
        }
      ]
    },
    {
      "cell_type": "code",
      "source": [
        "import yaml\n",
        "\n",
        "dict_file = {'train':'/content/Dataset/images/train' ,\n",
        "            'val': '/content/Dataset/images/val',\n",
        "            'nc' : '2',\n",
        "            'names' : ['helmet','head']}\n",
        "\n",
        "with open('/content/yolov5/data/hard_head.yaml', 'w+') as file:\n",
        "    documents = yaml.dump(dict_file, file)"
      ],
      "metadata": {
        "id": "2lHJcQmXyFOm"
      },
      "execution_count": null,
      "outputs": []
    },
    {
      "cell_type": "markdown",
      "source": [
        "# Change hyperparameter for augmentation"
      ],
      "metadata": {
        "id": "6LaQDwc-itI7"
      }
    },
    {
      "cell_type": "code",
      "source": [
        "with open('/content/yolov5/data/hyps/hyp.scratch-low.yaml', 'r') as file:\n",
        "  \n",
        "  hyp_conf_high = yaml.safe_load(file)\n",
        "\n",
        "hyp_conf_high"
      ],
      "metadata": {
        "id": "b7pejpqHi4oY",
        "colab": {
          "base_uri": "https://localhost:8080/"
        },
        "outputId": "d7acc063-0b92-40ea-d305-b0992b9b2896"
      },
      "execution_count": null,
      "outputs": [
        {
          "output_type": "execute_result",
          "data": {
            "text/plain": [
              "{'anchor_t': 4.0,\n",
              " 'box': 0.05,\n",
              " 'cls': 0.5,\n",
              " 'cls_pw': 1.0,\n",
              " 'copy_paste': 0.0,\n",
              " 'degrees': 0.0,\n",
              " 'fl_gamma': 0.0,\n",
              " 'fliplr': 0.5,\n",
              " 'flipud': 0.0,\n",
              " 'hsv_h': 0.015,\n",
              " 'hsv_s': 0.7,\n",
              " 'hsv_v': 0.4,\n",
              " 'iou_t': 0.2,\n",
              " 'lr0': 0.01,\n",
              " 'lrf': 0.01,\n",
              " 'mixup': 0.0,\n",
              " 'momentum': 0.937,\n",
              " 'mosaic': 1.0,\n",
              " 'obj': 1.0,\n",
              " 'obj_pw': 1.0,\n",
              " 'perspective': 0.0,\n",
              " 'scale': 0.5,\n",
              " 'shear': 0.0,\n",
              " 'translate': 0.1,\n",
              " 'warmup_bias_lr': 0.1,\n",
              " 'warmup_epochs': 3.0,\n",
              " 'warmup_momentum': 0.8,\n",
              " 'weight_decay': 0.0005}"
            ]
          },
          "metadata": {},
          "execution_count": 23
        }
      ]
    },
    {
      "cell_type": "code",
      "source": [
        "# Change flipud, degrees, and iou_thres\n",
        "\n",
        "hyp_conf_high['flipud'] = 0.5\n",
        "hyp_conf_high['degrees'] = 0.3\n",
        "hyp_conf_high['iou_t'] = 0.5"
      ],
      "metadata": {
        "id": "fxo8TYedqiuJ"
      },
      "execution_count": null,
      "outputs": []
    },
    {
      "cell_type": "code",
      "source": [
        "with open('/content/yolov5/data/hyps/hyp.scratch-low.yaml', 'w') as file:\n",
        "    yaml.dump(hyp_conf_high, file)\n",
        "\n",
        "print(open('/content/yolov5/data/hyps/hyp.scratch-low.yaml').read())"
      ],
      "metadata": {
        "id": "C-22ultQqnLN",
        "colab": {
          "base_uri": "https://localhost:8080/"
        },
        "outputId": "0df5a27d-d12e-4434-cae4-71c925c638bb"
      },
      "execution_count": null,
      "outputs": [
        {
          "output_type": "stream",
          "name": "stdout",
          "text": [
            "anchor_t: 4.0\n",
            "box: 0.05\n",
            "cls: 0.5\n",
            "cls_pw: 1.0\n",
            "copy_paste: 0.0\n",
            "degrees: 0.3\n",
            "fl_gamma: 0.0\n",
            "fliplr: 0.5\n",
            "flipud: 0.5\n",
            "hsv_h: 0.015\n",
            "hsv_s: 0.7\n",
            "hsv_v: 0.4\n",
            "iou_t: 0.5\n",
            "lr0: 0.01\n",
            "lrf: 0.01\n",
            "mixup: 0.0\n",
            "momentum: 0.937\n",
            "mosaic: 1.0\n",
            "obj: 1.0\n",
            "obj_pw: 1.0\n",
            "perspective: 0.0\n",
            "scale: 0.5\n",
            "shear: 0.0\n",
            "translate: 0.1\n",
            "warmup_bias_lr: 0.1\n",
            "warmup_epochs: 3.0\n",
            "warmup_momentum: 0.8\n",
            "weight_decay: 0.0005\n",
            "\n"
          ]
        }
      ]
    },
    {
      "cell_type": "markdown",
      "source": [
        "# Training"
      ],
      "metadata": {
        "id": "lCkL32U06efs"
      }
    },
    {
      "cell_type": "code",
      "source": [
        "proj_name = \"hard-hat-detection\"\n",
        "run_name = f\"{model_name}-model_{epochs}epochs_training\"\n",
        "\n",
        "%cd /content\n",
        "\n",
        "time_start = datetime.datetime.now()\n",
        "\n",
        "!python yolov5/train.py \\\n",
        "    --data 'yolov5/data/hard_head.yaml' \\\n",
        "    --weights 'yolov5/models/{model_name}.pt' \\\n",
        "    --batch {batch_size} \\\n",
        "    --epochs {epochs} \\\n",
        "    --img {img_size} \\\n",
        "    --project {proj_name} \\\n",
        "    --name {run_name}\n",
        "\n",
        "time_stop = datetime.datetime.now()\n",
        "\n",
        "training_time = time_stop-time_start\n",
        "\n",
        "print(training_time)"
      ],
      "metadata": {
        "id": "nq_10aKhtgPs",
        "colab": {
          "base_uri": "https://localhost:8080/"
        },
        "outputId": "f93fad4d-3e5b-4976-8cd8-9141aedb33cd"
      },
      "execution_count": null,
      "outputs": [
        {
          "output_type": "stream",
          "name": "stdout",
          "text": [
            "/content\n",
            "\u001b[34m\u001b[1mwandb\u001b[0m: Currently logged in as: \u001b[33mbaskoroadi\u001b[0m. Use \u001b[1m`wandb login --relogin`\u001b[0m to force relogin\n",
            "\u001b[34m\u001b[1mtrain: \u001b[0mweights=yolov5/models/yolov5s.pt, cfg=, data=yolov5/data/hard_head.yaml, hyp=yolov5/data/hyps/hyp.scratch-low.yaml, epochs=100, batch_size=32, imgsz=416, rect=False, resume=False, nosave=False, noval=False, noautoanchor=False, noplots=False, evolve=None, bucket=, cache=None, image_weights=False, device=, multi_scale=False, single_cls=False, optimizer=SGD, sync_bn=False, workers=8, project=hard-hat-detection, name=yolov5s-model_100epochs, exist_ok=False, quad=False, cos_lr=False, label_smoothing=0.0, patience=100, freeze=[0], save_period=-1, local_rank=-1, entity=None, upload_dataset=False, bbox_interval=-1, artifact_alias=latest\n",
            "\u001b[34m\u001b[1mgithub: \u001b[0mup to date with https://github.com/ultralytics/yolov5 ✅\n",
            "YOLOv5 🚀 v6.1-253-g75bbaa8 Python-3.7.13 torch-1.11.0+cu113 CUDA:0 (Tesla P100-PCIE-16GB, 16281MiB)\n",
            "\n",
            "\u001b[34m\u001b[1mhyperparameters: \u001b[0manchor_t=4.0, box=0.05, cls=0.5, cls_pw=1.0, copy_paste=0.0, degrees=0.3, fl_gamma=0.0, fliplr=0.5, flipud=0.5, hsv_h=0.015, hsv_s=0.7, hsv_v=0.4, iou_t=0.5, lr0=0.01, lrf=0.01, mixup=0.0, momentum=0.937, mosaic=1.0, obj=1.0, obj_pw=1.0, perspective=0.0, scale=0.5, shear=0.0, translate=0.1, warmup_bias_lr=0.1, warmup_epochs=3.0, warmup_momentum=0.8, weight_decay=0.0005\n",
            "\u001b[34m\u001b[1mTensorBoard: \u001b[0mStart with 'tensorboard --logdir hard-hat-detection', view at http://localhost:6006/\n",
            "\u001b[34m\u001b[1mwandb\u001b[0m: Tracking run with wandb version 0.12.18\n",
            "\u001b[34m\u001b[1mwandb\u001b[0m: Run data is saved locally in \u001b[35m\u001b[1m/content/wandb/run-20220616_115638-14j6h14q\u001b[0m\n",
            "\u001b[34m\u001b[1mwandb\u001b[0m: Run \u001b[1m`wandb offline`\u001b[0m to turn off syncing.\n",
            "\u001b[34m\u001b[1mwandb\u001b[0m: Syncing run \u001b[33myolov5s-model_100epochs\u001b[0m\n",
            "\u001b[34m\u001b[1mwandb\u001b[0m: ⭐️ View project at \u001b[34m\u001b[4mhttps://wandb.ai/baskoroadi/hard-hat-detection\u001b[0m\n",
            "\u001b[34m\u001b[1mwandb\u001b[0m: 🚀 View run at \u001b[34m\u001b[4mhttps://wandb.ai/baskoroadi/hard-hat-detection/runs/14j6h14q\u001b[0m\n",
            "Downloading https://ultralytics.com/assets/Arial.ttf to /root/.config/Ultralytics/Arial.ttf...\n",
            "100% 755k/755k [00:00<00:00, 2.32MB/s]\n",
            "YOLOv5 temporarily requires wandb version 0.12.10 or below. Some features may not work as expected.\n",
            "Downloading https://github.com/ultralytics/yolov5/releases/download/v6.1/yolov5s.pt to yolov5/models/yolov5s.pt...\n",
            "100% 14.1M/14.1M [00:00<00:00, 18.6MB/s]\n",
            "\n",
            "Overriding model.yaml nc=80 with nc=2\n",
            "\n",
            "                 from  n    params  module                                  arguments                     \n",
            "  0                -1  1      3520  models.common.Conv                      [3, 32, 6, 2, 2]              \n",
            "  1                -1  1     18560  models.common.Conv                      [32, 64, 3, 2]                \n",
            "  2                -1  1     18816  models.common.C3                        [64, 64, 1]                   \n",
            "  3                -1  1     73984  models.common.Conv                      [64, 128, 3, 2]               \n",
            "  4                -1  2    115712  models.common.C3                        [128, 128, 2]                 \n",
            "  5                -1  1    295424  models.common.Conv                      [128, 256, 3, 2]              \n",
            "  6                -1  3    625152  models.common.C3                        [256, 256, 3]                 \n",
            "  7                -1  1   1180672  models.common.Conv                      [256, 512, 3, 2]              \n",
            "  8                -1  1   1182720  models.common.C3                        [512, 512, 1]                 \n",
            "  9                -1  1    656896  models.common.SPPF                      [512, 512, 5]                 \n",
            " 10                -1  1    131584  models.common.Conv                      [512, 256, 1, 1]              \n",
            " 11                -1  1         0  torch.nn.modules.upsampling.Upsample    [None, 2, 'nearest']          \n",
            " 12           [-1, 6]  1         0  models.common.Concat                    [1]                           \n",
            " 13                -1  1    361984  models.common.C3                        [512, 256, 1, False]          \n",
            " 14                -1  1     33024  models.common.Conv                      [256, 128, 1, 1]              \n",
            " 15                -1  1         0  torch.nn.modules.upsampling.Upsample    [None, 2, 'nearest']          \n",
            " 16           [-1, 4]  1         0  models.common.Concat                    [1]                           \n",
            " 17                -1  1     90880  models.common.C3                        [256, 128, 1, False]          \n",
            " 18                -1  1    147712  models.common.Conv                      [128, 128, 3, 2]              \n",
            " 19          [-1, 14]  1         0  models.common.Concat                    [1]                           \n",
            " 20                -1  1    296448  models.common.C3                        [256, 256, 1, False]          \n",
            " 21                -1  1    590336  models.common.Conv                      [256, 256, 3, 2]              \n",
            " 22          [-1, 10]  1         0  models.common.Concat                    [1]                           \n",
            " 23                -1  1   1182720  models.common.C3                        [512, 512, 1, False]          \n",
            " 24      [17, 20, 23]  1     18879  models.yolo.Detect                      [2, [[10, 13, 16, 30, 33, 23], [30, 61, 62, 45, 59, 119], [116, 90, 156, 198, 373, 326]], [128, 256, 512]]\n",
            "Model summary: 270 layers, 7025023 parameters, 7025023 gradients\n",
            "\n",
            "Transferred 343/349 items from yolov5/models/yolov5s.pt\n",
            "\u001b[34m\u001b[1mAMP: \u001b[0mchecks passed ✅\n",
            "Scaled weight_decay = 0.0005\n",
            "\u001b[34m\u001b[1moptimizer:\u001b[0m SGD with parameter groups 57 weight (no decay), 60 weight, 60 bias\n",
            "\u001b[34m\u001b[1malbumentations: \u001b[0mBlur(always_apply=False, p=0.01, blur_limit=(3, 7)), MedianBlur(always_apply=False, p=0.01, blur_limit=(3, 7)), ToGray(always_apply=False, p=0.01), CLAHE(always_apply=False, p=0.01, clip_limit=(1, 4.0), tile_grid_size=(8, 8))\n",
            "\u001b[34m\u001b[1mtrain: \u001b[0mScanning '/content/Dataset/labels/train' images and labels...4000 found, 0 missing, 0 empty, 0 corrupt: 100% 4000/4000 [00:01<00:00, 2625.93it/s]\n",
            "\u001b[34m\u001b[1mtrain: \u001b[0mNew cache created: /content/Dataset/labels/train.cache\n",
            "\u001b[34m\u001b[1mval: \u001b[0mScanning '/content/Dataset/labels/val' images and labels...500 found, 0 missing, 0 empty, 0 corrupt: 100% 500/500 [00:00<00:00, 975.25it/s] \n",
            "\u001b[34m\u001b[1mval: \u001b[0mNew cache created: /content/Dataset/labels/val.cache\n",
            "Plotting labels to hard-hat-detection/yolov5s-model_100epochs/labels.jpg... \n",
            "\n",
            "\u001b[34m\u001b[1mAutoAnchor: \u001b[0m5.44 anchors/target, 1.000 Best Possible Recall (BPR). Current anchors are a good fit to dataset ✅\n",
            "Image sizes 416 train, 416 val\n",
            "Using 4 dataloader workers\n",
            "Logging results to \u001b[1mhard-hat-detection/yolov5s-model_100epochs\u001b[0m\n",
            "Starting training for 100 epochs...\n",
            "\n",
            "     Epoch   gpu_mem       box       obj       cls    labels  img_size\n",
            "      0/99     2.89G   0.08841   0.03687   0.02085       218       416: 100% 125/125 [00:57<00:00,  2.18it/s]\n",
            "               Class     Images     Labels          P          R     mAP@.5 mAP@.5:.95: 100% 8/8 [00:04<00:00,  1.60it/s]\n",
            "                 all        500       2422      0.365      0.616      0.394      0.152\n",
            "\n",
            "     Epoch   gpu_mem       box       obj       cls    labels  img_size\n",
            "      1/99      3.3G   0.06404   0.03115  0.009193       252       416: 100% 125/125 [00:56<00:00,  2.22it/s]\n",
            "               Class     Images     Labels          P          R     mAP@.5 mAP@.5:.95: 100% 8/8 [00:04<00:00,  1.75it/s]\n",
            "                 all        500       2422      0.464      0.584      0.538      0.259\n",
            "\n",
            "     Epoch   gpu_mem       box       obj       cls    labels  img_size\n",
            "      2/99      3.3G   0.05552   0.02902  0.006175       200       416: 100% 125/125 [00:55<00:00,  2.23it/s]\n",
            "               Class     Images     Labels          P          R     mAP@.5 mAP@.5:.95: 100% 8/8 [00:04<00:00,  1.92it/s]\n",
            "                 all        500       2422       0.66      0.713       0.74      0.342\n",
            "\n",
            "     Epoch   gpu_mem       box       obj       cls    labels  img_size\n",
            "      3/99      3.3G   0.04852   0.02843  0.005256       209       416: 100% 125/125 [00:54<00:00,  2.28it/s]\n",
            "               Class     Images     Labels          P          R     mAP@.5 mAP@.5:.95: 100% 8/8 [00:04<00:00,  1.63it/s]\n",
            "                 all        500       2422      0.788      0.699       0.77      0.408\n",
            "\n",
            "     Epoch   gpu_mem       box       obj       cls    labels  img_size\n",
            "      4/99      3.3G   0.04383    0.0277  0.004528       190       416: 100% 125/125 [00:55<00:00,  2.26it/s]\n",
            "               Class     Images     Labels          P          R     mAP@.5 mAP@.5:.95: 100% 8/8 [00:04<00:00,  1.76it/s]\n",
            "                 all        500       2422      0.847      0.758      0.834      0.436\n",
            "\n",
            "     Epoch   gpu_mem       box       obj       cls    labels  img_size\n",
            "      5/99      3.3G   0.04127   0.02685   0.00366       197       416: 100% 125/125 [00:55<00:00,  2.25it/s]\n",
            "               Class     Images     Labels          P          R     mAP@.5 mAP@.5:.95: 100% 8/8 [00:04<00:00,  1.77it/s]\n",
            "                 all        500       2422      0.864      0.809      0.873        0.5\n",
            "\n",
            "     Epoch   gpu_mem       box       obj       cls    labels  img_size\n",
            "      6/99      3.3G   0.04005   0.02582  0.003527       244       416: 100% 125/125 [00:55<00:00,  2.26it/s]\n",
            "               Class     Images     Labels          P          R     mAP@.5 mAP@.5:.95: 100% 8/8 [00:04<00:00,  1.69it/s]\n",
            "                 all        500       2422      0.882      0.806      0.869      0.495\n",
            "\n",
            "     Epoch   gpu_mem       box       obj       cls    labels  img_size\n",
            "      7/99      3.3G   0.03891   0.02574  0.003583       210       416: 100% 125/125 [00:55<00:00,  2.27it/s]\n",
            "               Class     Images     Labels          P          R     mAP@.5 mAP@.5:.95: 100% 8/8 [00:04<00:00,  1.66it/s]\n",
            "                 all        500       2422      0.883       0.83       0.89      0.531\n",
            "\n",
            "     Epoch   gpu_mem       box       obj       cls    labels  img_size\n",
            "      8/99      3.3G   0.03765   0.02508   0.00317       171       416: 100% 125/125 [00:55<00:00,  2.24it/s]\n",
            "               Class     Images     Labels          P          R     mAP@.5 mAP@.5:.95: 100% 8/8 [00:04<00:00,  1.93it/s]\n",
            "                 all        500       2422      0.919      0.812      0.894      0.525\n",
            "\n",
            "     Epoch   gpu_mem       box       obj       cls    labels  img_size\n",
            "      9/99      3.3G    0.0371   0.02524  0.003014       246       416: 100% 125/125 [00:55<00:00,  2.27it/s]\n",
            "               Class     Images     Labels          P          R     mAP@.5 mAP@.5:.95: 100% 8/8 [00:05<00:00,  1.49it/s]\n",
            "                 all        500       2422      0.907      0.834      0.902      0.549\n",
            "\n",
            "     Epoch   gpu_mem       box       obj       cls    labels  img_size\n",
            "     10/99      3.3G   0.03643   0.02469  0.003113       197       416: 100% 125/125 [00:55<00:00,  2.24it/s]\n",
            "               Class     Images     Labels          P          R     mAP@.5 mAP@.5:.95: 100% 8/8 [00:04<00:00,  1.73it/s]\n",
            "                 all        500       2422       0.88      0.837        0.9      0.548\n",
            "\n",
            "     Epoch   gpu_mem       box       obj       cls    labels  img_size\n",
            "     11/99      3.3G   0.03648   0.02489  0.002841       169       416: 100% 125/125 [00:55<00:00,  2.27it/s]\n",
            "               Class     Images     Labels          P          R     mAP@.5 mAP@.5:.95: 100% 8/8 [00:04<00:00,  1.72it/s]\n",
            "                 all        500       2422      0.895       0.83      0.902      0.533\n",
            "\n",
            "     Epoch   gpu_mem       box       obj       cls    labels  img_size\n",
            "     12/99      3.3G   0.03624   0.02457  0.002967       239       416: 100% 125/125 [00:54<00:00,  2.28it/s]\n",
            "               Class     Images     Labels          P          R     mAP@.5 mAP@.5:.95: 100% 8/8 [00:04<00:00,  1.75it/s]\n",
            "                 all        500       2422      0.898      0.823      0.895      0.547\n",
            "\n",
            "     Epoch   gpu_mem       box       obj       cls    labels  img_size\n",
            "     13/99      3.3G   0.03548   0.02434  0.002508       169       416: 100% 125/125 [00:54<00:00,  2.28it/s]\n",
            "               Class     Images     Labels          P          R     mAP@.5 mAP@.5:.95: 100% 8/8 [00:04<00:00,  1.68it/s]\n",
            "                 all        500       2422      0.912      0.837      0.911      0.558\n",
            "\n",
            "     Epoch   gpu_mem       box       obj       cls    labels  img_size\n",
            "     14/99      3.3G   0.03519   0.02441  0.002723       196       416: 100% 125/125 [00:55<00:00,  2.24it/s]\n",
            "               Class     Images     Labels          P          R     mAP@.5 mAP@.5:.95: 100% 8/8 [00:04<00:00,  1.74it/s]\n",
            "                 all        500       2422       0.91      0.847       0.91      0.561\n",
            "\n",
            "     Epoch   gpu_mem       box       obj       cls    labels  img_size\n",
            "     15/99      3.3G   0.03526   0.02416  0.002446       307       416: 100% 125/125 [00:55<00:00,  2.27it/s]\n",
            "               Class     Images     Labels          P          R     mAP@.5 mAP@.5:.95: 100% 8/8 [00:04<00:00,  1.71it/s]\n",
            "                 all        500       2422      0.898      0.844      0.905      0.554\n",
            "\n",
            "     Epoch   gpu_mem       box       obj       cls    labels  img_size\n",
            "     16/99      3.3G   0.03421   0.02395  0.002264       226       416: 100% 125/125 [00:54<00:00,  2.28it/s]\n",
            "               Class     Images     Labels          P          R     mAP@.5 mAP@.5:.95: 100% 8/8 [00:04<00:00,  1.65it/s]\n",
            "                 all        500       2422      0.925      0.853      0.916      0.566\n",
            "\n",
            "     Epoch   gpu_mem       box       obj       cls    labels  img_size\n",
            "     17/99      3.3G    0.0343   0.02354   0.00248       224       416: 100% 125/125 [00:55<00:00,  2.27it/s]\n",
            "               Class     Images     Labels          P          R     mAP@.5 mAP@.5:.95: 100% 8/8 [00:04<00:00,  1.75it/s]\n",
            "                 all        500       2422      0.906      0.858      0.913      0.563\n",
            "\n",
            "     Epoch   gpu_mem       box       obj       cls    labels  img_size\n",
            "     18/99      3.3G   0.03384   0.02339  0.002319       227       416: 100% 125/125 [00:54<00:00,  2.28it/s]\n",
            "               Class     Images     Labels          P          R     mAP@.5 mAP@.5:.95: 100% 8/8 [00:04<00:00,  1.76it/s]\n",
            "                 all        500       2422      0.887       0.86       0.91      0.559\n",
            "\n",
            "     Epoch   gpu_mem       box       obj       cls    labels  img_size\n",
            "     19/99      3.3G   0.03376   0.02375  0.002299       241       416: 100% 125/125 [00:55<00:00,  2.25it/s]\n",
            "               Class     Images     Labels          P          R     mAP@.5 mAP@.5:.95: 100% 8/8 [00:05<00:00,  1.52it/s]\n",
            "                 all        500       2422      0.921      0.832      0.909      0.566\n",
            "\n",
            "     Epoch   gpu_mem       box       obj       cls    labels  img_size\n",
            "     20/99      3.3G   0.03359   0.02384  0.002167       221       416: 100% 125/125 [00:55<00:00,  2.27it/s]\n",
            "               Class     Images     Labels          P          R     mAP@.5 mAP@.5:.95: 100% 8/8 [00:04<00:00,  1.72it/s]\n",
            "                 all        500       2422      0.909      0.855      0.917      0.569\n",
            "\n",
            "     Epoch   gpu_mem       box       obj       cls    labels  img_size\n",
            "     21/99      3.3G   0.03287   0.02326  0.002089       231       416: 100% 125/125 [00:54<00:00,  2.28it/s]\n",
            "               Class     Images     Labels          P          R     mAP@.5 mAP@.5:.95: 100% 8/8 [00:04<00:00,  1.75it/s]\n",
            "                 all        500       2422      0.907      0.865      0.924      0.577\n",
            "\n",
            "     Epoch   gpu_mem       box       obj       cls    labels  img_size\n",
            "     22/99      3.3G   0.03352   0.02346  0.002246       199       416: 100% 125/125 [00:55<00:00,  2.27it/s]\n",
            "               Class     Images     Labels          P          R     mAP@.5 mAP@.5:.95: 100% 8/8 [00:04<00:00,  1.80it/s]\n",
            "                 all        500       2422      0.919      0.857       0.92      0.566\n",
            "\n",
            "     Epoch   gpu_mem       box       obj       cls    labels  img_size\n",
            "     23/99      3.3G   0.03332   0.02323  0.002195       177       416: 100% 125/125 [00:55<00:00,  2.26it/s]\n",
            "               Class     Images     Labels          P          R     mAP@.5 mAP@.5:.95: 100% 8/8 [00:04<00:00,  1.69it/s]\n",
            "                 all        500       2422      0.916      0.857      0.917      0.568\n",
            "\n",
            "     Epoch   gpu_mem       box       obj       cls    labels  img_size\n",
            "     24/99      3.3G   0.03319   0.02337  0.002095       208       416: 100% 125/125 [00:54<00:00,  2.30it/s]\n",
            "               Class     Images     Labels          P          R     mAP@.5 mAP@.5:.95: 100% 8/8 [00:04<00:00,  1.66it/s]\n",
            "                 all        500       2422      0.925      0.841      0.917      0.577\n",
            "\n",
            "     Epoch   gpu_mem       box       obj       cls    labels  img_size\n",
            "     25/99      3.3G   0.03273    0.0235  0.001995       300       416: 100% 125/125 [00:55<00:00,  2.25it/s]\n",
            "               Class     Images     Labels          P          R     mAP@.5 mAP@.5:.95: 100% 8/8 [00:04<00:00,  1.92it/s]\n",
            "                 all        500       2422      0.906      0.859      0.913      0.574\n",
            "\n",
            "     Epoch   gpu_mem       box       obj       cls    labels  img_size\n",
            "     26/99      3.3G   0.03278   0.02301  0.001983       209       416: 100% 125/125 [00:54<00:00,  2.28it/s]\n",
            "               Class     Images     Labels          P          R     mAP@.5 mAP@.5:.95: 100% 8/8 [00:04<00:00,  1.66it/s]\n",
            "                 all        500       2422      0.915      0.851      0.918       0.57\n",
            "\n",
            "     Epoch   gpu_mem       box       obj       cls    labels  img_size\n",
            "     27/99      3.3G   0.03247   0.02285   0.00193       280       416: 100% 125/125 [00:54<00:00,  2.28it/s]\n",
            "               Class     Images     Labels          P          R     mAP@.5 mAP@.5:.95: 100% 8/8 [00:04<00:00,  1.72it/s]\n",
            "                 all        500       2422      0.921      0.865      0.926      0.578\n",
            "\n",
            "     Epoch   gpu_mem       box       obj       cls    labels  img_size\n",
            "     28/99      3.3G   0.03262   0.02275  0.001863       218       416: 100% 125/125 [00:55<00:00,  2.25it/s]\n",
            "               Class     Images     Labels          P          R     mAP@.5 mAP@.5:.95: 100% 8/8 [00:04<00:00,  1.82it/s]\n",
            "                 all        500       2422      0.916      0.864      0.922      0.569\n",
            "\n",
            "     Epoch   gpu_mem       box       obj       cls    labels  img_size\n",
            "     29/99      3.3G   0.03229   0.02269  0.001802       195       416: 100% 125/125 [00:54<00:00,  2.29it/s]\n",
            "               Class     Images     Labels          P          R     mAP@.5 mAP@.5:.95: 100% 8/8 [00:05<00:00,  1.50it/s]\n",
            "                 all        500       2422      0.922      0.855      0.918      0.583\n",
            "\n",
            "     Epoch   gpu_mem       box       obj       cls    labels  img_size\n",
            "     30/99      3.3G   0.03201   0.02304  0.001834       224       416: 100% 125/125 [00:55<00:00,  2.27it/s]\n",
            "               Class     Images     Labels          P          R     mAP@.5 mAP@.5:.95: 100% 8/8 [00:04<00:00,  1.79it/s]\n",
            "                 all        500       2422      0.918      0.867      0.929      0.588\n",
            "\n",
            "     Epoch   gpu_mem       box       obj       cls    labels  img_size\n",
            "     31/99      3.3G   0.03214   0.02274  0.001945       178       416: 100% 125/125 [00:55<00:00,  2.27it/s]\n",
            "               Class     Images     Labels          P          R     mAP@.5 mAP@.5:.95: 100% 8/8 [00:04<00:00,  1.72it/s]\n",
            "                 all        500       2422      0.937      0.853      0.924      0.575\n",
            "\n",
            "     Epoch   gpu_mem       box       obj       cls    labels  img_size\n",
            "     32/99      3.3G   0.03181   0.02195  0.001942       295       416: 100% 125/125 [00:55<00:00,  2.26it/s]\n",
            "               Class     Images     Labels          P          R     mAP@.5 mAP@.5:.95: 100% 8/8 [00:04<00:00,  1.68it/s]\n",
            "                 all        500       2422      0.926       0.85      0.924      0.581\n",
            "\n",
            "     Epoch   gpu_mem       box       obj       cls    labels  img_size\n",
            "     33/99      3.3G   0.03164   0.02261  0.001804       164       416: 100% 125/125 [00:54<00:00,  2.29it/s]\n",
            "               Class     Images     Labels          P          R     mAP@.5 mAP@.5:.95: 100% 8/8 [00:04<00:00,  1.64it/s]\n",
            "                 all        500       2422      0.929      0.859      0.928      0.587\n",
            "\n",
            "     Epoch   gpu_mem       box       obj       cls    labels  img_size\n",
            "     34/99      3.3G   0.03173   0.02285  0.001698       217       416: 100% 125/125 [00:55<00:00,  2.25it/s]\n",
            "               Class     Images     Labels          P          R     mAP@.5 mAP@.5:.95: 100% 8/8 [00:04<00:00,  1.89it/s]\n",
            "                 all        500       2422      0.921      0.865      0.926      0.587\n",
            "\n",
            "     Epoch   gpu_mem       box       obj       cls    labels  img_size\n",
            "     35/99      3.3G   0.03185   0.02268  0.001753       237       416: 100% 125/125 [00:55<00:00,  2.27it/s]\n",
            "               Class     Images     Labels          P          R     mAP@.5 mAP@.5:.95: 100% 8/8 [00:04<00:00,  1.76it/s]\n",
            "                 all        500       2422      0.924      0.856      0.928      0.577\n",
            "\n",
            "     Epoch   gpu_mem       box       obj       cls    labels  img_size\n",
            "     36/99      3.3G    0.0313   0.02258  0.001637       237       416: 100% 125/125 [00:55<00:00,  2.27it/s]\n",
            "               Class     Images     Labels          P          R     mAP@.5 mAP@.5:.95: 100% 8/8 [00:04<00:00,  1.78it/s]\n",
            "                 all        500       2422      0.938      0.858       0.93       0.59\n",
            "\n",
            "     Epoch   gpu_mem       box       obj       cls    labels  img_size\n",
            "     37/99      3.3G   0.03134   0.02221  0.001548       223       416: 100% 125/125 [00:56<00:00,  2.22it/s]\n",
            "               Class     Images     Labels          P          R     mAP@.5 mAP@.5:.95: 100% 8/8 [00:04<00:00,  1.98it/s]\n",
            "                 all        500       2422      0.924      0.868      0.929      0.589\n",
            "\n",
            "     Epoch   gpu_mem       box       obj       cls    labels  img_size\n",
            "     38/99      3.3G   0.03132   0.02222  0.001735       222       416: 100% 125/125 [00:55<00:00,  2.25it/s]\n",
            "               Class     Images     Labels          P          R     mAP@.5 mAP@.5:.95: 100% 8/8 [00:04<00:00,  1.90it/s]\n",
            "                 all        500       2422      0.927      0.853      0.928      0.584\n",
            "\n",
            "     Epoch   gpu_mem       box       obj       cls    labels  img_size\n",
            "     39/99      3.3G   0.03107   0.02214  0.001717       260       416: 100% 125/125 [00:54<00:00,  2.28it/s]\n",
            "               Class     Images     Labels          P          R     mAP@.5 mAP@.5:.95: 100% 8/8 [00:05<00:00,  1.48it/s]\n",
            "                 all        500       2422       0.93      0.862       0.93       0.59\n",
            "\n",
            "     Epoch   gpu_mem       box       obj       cls    labels  img_size\n",
            "     40/99      3.3G   0.03105   0.02226  0.001657       195       416: 100% 125/125 [00:54<00:00,  2.28it/s]\n",
            "               Class     Images     Labels          P          R     mAP@.5 mAP@.5:.95: 100% 8/8 [00:04<00:00,  1.76it/s]\n",
            "                 all        500       2422      0.915      0.868      0.927      0.592\n",
            "\n",
            "     Epoch   gpu_mem       box       obj       cls    labels  img_size\n",
            "     41/99      3.3G   0.03098   0.02234  0.001608       156       416: 100% 125/125 [00:55<00:00,  2.25it/s]\n",
            "               Class     Images     Labels          P          R     mAP@.5 mAP@.5:.95: 100% 8/8 [00:04<00:00,  1.75it/s]\n",
            "                 all        500       2422      0.929       0.87      0.931      0.594\n",
            "\n",
            "     Epoch   gpu_mem       box       obj       cls    labels  img_size\n",
            "     42/99      3.3G   0.03098    0.0219   0.00158       224       416: 100% 125/125 [00:54<00:00,  2.28it/s]\n",
            "               Class     Images     Labels          P          R     mAP@.5 mAP@.5:.95: 100% 8/8 [00:04<00:00,  1.84it/s]\n",
            "                 all        500       2422      0.931      0.865      0.928      0.598\n",
            "\n",
            "     Epoch   gpu_mem       box       obj       cls    labels  img_size\n",
            "     43/99      3.3G     0.031   0.02238   0.00158       260       416: 100% 125/125 [00:54<00:00,  2.28it/s]\n",
            "               Class     Images     Labels          P          R     mAP@.5 mAP@.5:.95: 100% 8/8 [00:04<00:00,  1.76it/s]\n",
            "                 all        500       2422      0.916      0.873      0.932      0.597\n",
            "\n",
            "     Epoch   gpu_mem       box       obj       cls    labels  img_size\n",
            "     44/99      3.3G   0.03069   0.02157   0.00162       190       416: 100% 125/125 [00:55<00:00,  2.26it/s]\n",
            "               Class     Images     Labels          P          R     mAP@.5 mAP@.5:.95: 100% 8/8 [00:03<00:00,  2.07it/s]\n",
            "                 all        500       2422       0.92      0.864       0.93       0.59\n",
            "\n",
            "     Epoch   gpu_mem       box       obj       cls    labels  img_size\n",
            "     45/99      3.3G   0.03052   0.02227  0.001507       179       416: 100% 125/125 [00:54<00:00,  2.29it/s]\n",
            "               Class     Images     Labels          P          R     mAP@.5 mAP@.5:.95: 100% 8/8 [00:04<00:00,  1.66it/s]\n",
            "                 all        500       2422      0.924      0.861      0.931      0.592\n",
            "\n",
            "     Epoch   gpu_mem       box       obj       cls    labels  img_size\n",
            "     46/99      3.3G   0.03037   0.02188  0.001423       279       416: 100% 125/125 [00:55<00:00,  2.24it/s]\n",
            "               Class     Images     Labels          P          R     mAP@.5 mAP@.5:.95: 100% 8/8 [00:03<00:00,  2.01it/s]\n",
            "                 all        500       2422      0.924      0.867      0.928      0.598\n",
            "\n",
            "     Epoch   gpu_mem       box       obj       cls    labels  img_size\n",
            "     47/99      3.3G   0.03043   0.02186  0.001504       208       416: 100% 125/125 [00:54<00:00,  2.28it/s]\n",
            "               Class     Images     Labels          P          R     mAP@.5 mAP@.5:.95: 100% 8/8 [00:04<00:00,  1.70it/s]\n",
            "                 all        500       2422      0.924       0.87       0.93      0.592\n",
            "\n",
            "     Epoch   gpu_mem       box       obj       cls    labels  img_size\n",
            "     48/99      3.3G   0.03006   0.02161  0.001383       226       416: 100% 125/125 [00:54<00:00,  2.30it/s]\n",
            "               Class     Images     Labels          P          R     mAP@.5 mAP@.5:.95: 100% 8/8 [00:04<00:00,  1.61it/s]\n",
            "                 all        500       2422      0.934      0.854      0.931      0.596\n",
            "\n",
            "     Epoch   gpu_mem       box       obj       cls    labels  img_size\n",
            "     49/99      3.3G   0.03034   0.02175  0.001418       290       416: 100% 125/125 [00:54<00:00,  2.28it/s]\n",
            "               Class     Images     Labels          P          R     mAP@.5 mAP@.5:.95: 100% 8/8 [00:05<00:00,  1.59it/s]\n",
            "                 all        500       2422      0.936       0.85      0.931      0.601\n",
            "\n",
            "     Epoch   gpu_mem       box       obj       cls    labels  img_size\n",
            "     50/99      3.3G   0.03022   0.02173  0.001495       192       416: 100% 125/125 [00:54<00:00,  2.28it/s]\n",
            "               Class     Images     Labels          P          R     mAP@.5 mAP@.5:.95: 100% 8/8 [00:04<00:00,  1.66it/s]\n",
            "                 all        500       2422      0.923      0.865      0.935      0.602\n",
            "\n",
            "     Epoch   gpu_mem       box       obj       cls    labels  img_size\n",
            "     51/99      3.3G   0.03023    0.0218  0.001378       231       416: 100% 125/125 [00:54<00:00,  2.28it/s]\n",
            "               Class     Images     Labels          P          R     mAP@.5 mAP@.5:.95: 100% 8/8 [00:04<00:00,  1.78it/s]\n",
            "                 all        500       2422      0.914      0.873      0.934      0.597\n",
            "\n",
            "     Epoch   gpu_mem       box       obj       cls    labels  img_size\n",
            "     52/99      3.3G   0.02998   0.02149  0.001506       198       416: 100% 125/125 [00:54<00:00,  2.28it/s]\n",
            "               Class     Images     Labels          P          R     mAP@.5 mAP@.5:.95: 100% 8/8 [00:04<00:00,  1.91it/s]\n",
            "                 all        500       2422      0.932      0.869      0.932      0.594\n",
            "\n",
            "     Epoch   gpu_mem       box       obj       cls    labels  img_size\n",
            "     53/99      3.3G   0.02982   0.02104  0.001431       209       416: 100% 125/125 [00:54<00:00,  2.28it/s]\n",
            "               Class     Images     Labels          P          R     mAP@.5 mAP@.5:.95: 100% 8/8 [00:04<00:00,  1.80it/s]\n",
            "                 all        500       2422      0.937       0.86      0.934      0.596\n",
            "\n",
            "     Epoch   gpu_mem       box       obj       cls    labels  img_size\n",
            "     54/99      3.3G    0.0299   0.02143   0.00132       227       416: 100% 125/125 [00:54<00:00,  2.30it/s]\n",
            "               Class     Images     Labels          P          R     mAP@.5 mAP@.5:.95: 100% 8/8 [00:04<00:00,  1.64it/s]\n",
            "                 all        500       2422      0.944      0.857      0.936      0.599\n",
            "\n",
            "     Epoch   gpu_mem       box       obj       cls    labels  img_size\n",
            "     55/99      3.3G   0.02961   0.02132  0.001317       212       416: 100% 125/125 [00:55<00:00,  2.23it/s]\n",
            "               Class     Images     Labels          P          R     mAP@.5 mAP@.5:.95: 100% 8/8 [00:04<00:00,  1.87it/s]\n",
            "                 all        500       2422      0.926      0.864       0.93      0.598\n",
            "\n",
            "     Epoch   gpu_mem       box       obj       cls    labels  img_size\n",
            "     56/99      3.3G   0.02954   0.02118   0.00134       198       416: 100% 125/125 [00:54<00:00,  2.30it/s]\n",
            "               Class     Images     Labels          P          R     mAP@.5 mAP@.5:.95: 100% 8/8 [00:04<00:00,  1.62it/s]\n",
            "                 all        500       2422      0.937      0.863      0.936        0.6\n",
            "\n",
            "     Epoch   gpu_mem       box       obj       cls    labels  img_size\n",
            "     57/99      3.3G   0.02965   0.02136  0.001298       204       416: 100% 125/125 [00:55<00:00,  2.27it/s]\n",
            "               Class     Images     Labels          P          R     mAP@.5 mAP@.5:.95: 100% 8/8 [00:04<00:00,  1.85it/s]\n",
            "                 all        500       2422      0.912      0.873      0.933      0.599\n",
            "\n",
            "     Epoch   gpu_mem       box       obj       cls    labels  img_size\n",
            "     58/99      3.3G   0.02967   0.02191  0.001318       232       416: 100% 125/125 [00:54<00:00,  2.27it/s]\n",
            "               Class     Images     Labels          P          R     mAP@.5 mAP@.5:.95: 100% 8/8 [00:04<00:00,  1.74it/s]\n",
            "                 all        500       2422      0.929      0.874      0.938      0.604\n",
            "\n",
            "     Epoch   gpu_mem       box       obj       cls    labels  img_size\n",
            "     59/99      3.3G    0.0294   0.02103  0.001238       240       416: 100% 125/125 [00:54<00:00,  2.29it/s]\n",
            "               Class     Images     Labels          P          R     mAP@.5 mAP@.5:.95: 100% 8/8 [00:05<00:00,  1.52it/s]\n",
            "                 all        500       2422      0.912      0.881      0.933      0.602\n",
            "\n",
            "     Epoch   gpu_mem       box       obj       cls    labels  img_size\n",
            "     60/99      3.3G   0.02953   0.02136  0.001205       191       416: 100% 125/125 [00:55<00:00,  2.26it/s]\n",
            "               Class     Images     Labels          P          R     mAP@.5 mAP@.5:.95: 100% 8/8 [00:04<00:00,  1.71it/s]\n",
            "                 all        500       2422      0.944      0.853      0.936      0.604\n",
            "\n",
            "     Epoch   gpu_mem       box       obj       cls    labels  img_size\n",
            "     61/99      3.3G   0.02931   0.02111  0.001222       219       416: 100% 125/125 [00:54<00:00,  2.30it/s]\n",
            "               Class     Images     Labels          P          R     mAP@.5 mAP@.5:.95: 100% 8/8 [00:04<00:00,  1.67it/s]\n",
            "                 all        500       2422      0.931      0.863      0.933        0.6\n",
            "\n",
            "     Epoch   gpu_mem       box       obj       cls    labels  img_size\n",
            "     62/99      3.3G   0.02894    0.0211  0.001186       234       416: 100% 125/125 [00:54<00:00,  2.28it/s]\n",
            "               Class     Images     Labels          P          R     mAP@.5 mAP@.5:.95: 100% 8/8 [00:04<00:00,  1.63it/s]\n",
            "                 all        500       2422      0.928      0.872      0.935      0.603\n",
            "\n",
            "     Epoch   gpu_mem       box       obj       cls    labels  img_size\n",
            "     63/99      3.3G   0.02923   0.02124   0.00112       250       416: 100% 125/125 [00:55<00:00,  2.26it/s]\n",
            "               Class     Images     Labels          P          R     mAP@.5 mAP@.5:.95: 100% 8/8 [00:04<00:00,  1.80it/s]\n",
            "                 all        500       2422      0.933      0.872      0.936      0.606\n",
            "\n",
            "     Epoch   gpu_mem       box       obj       cls    labels  img_size\n",
            "     64/99      3.3G   0.02917   0.02101  0.001197       206       416: 100% 125/125 [00:55<00:00,  2.27it/s]\n",
            "               Class     Images     Labels          P          R     mAP@.5 mAP@.5:.95: 100% 8/8 [00:05<00:00,  1.57it/s]\n",
            "                 all        500       2422      0.942      0.873      0.938      0.605\n",
            "\n",
            "     Epoch   gpu_mem       box       obj       cls    labels  img_size\n",
            "     65/99      3.3G   0.02891   0.02115  0.001126       231       416: 100% 125/125 [00:54<00:00,  2.27it/s]\n",
            "               Class     Images     Labels          P          R     mAP@.5 mAP@.5:.95: 100% 8/8 [00:04<00:00,  1.77it/s]\n",
            "                 all        500       2422      0.948      0.866      0.938      0.609\n",
            "\n",
            "     Epoch   gpu_mem       box       obj       cls    labels  img_size\n",
            "     66/99      3.3G   0.02885   0.02132  0.001154       227       416: 100% 125/125 [00:55<00:00,  2.26it/s]\n",
            "               Class     Images     Labels          P          R     mAP@.5 mAP@.5:.95: 100% 8/8 [00:04<00:00,  1.73it/s]\n",
            "                 all        500       2422      0.933      0.875       0.94      0.604\n",
            "\n",
            "     Epoch   gpu_mem       box       obj       cls    labels  img_size\n",
            "     67/99      3.3G   0.02907   0.02106  0.001119       263       416: 100% 125/125 [00:54<00:00,  2.29it/s]\n",
            "               Class     Images     Labels          P          R     mAP@.5 mAP@.5:.95: 100% 8/8 [00:04<00:00,  1.78it/s]\n",
            "                 all        500       2422      0.943      0.863      0.938      0.609\n",
            "\n",
            "     Epoch   gpu_mem       box       obj       cls    labels  img_size\n",
            "     68/99      3.3G   0.02901   0.02117  0.001214       210       416: 100% 125/125 [00:55<00:00,  2.26it/s]\n",
            "               Class     Images     Labels          P          R     mAP@.5 mAP@.5:.95: 100% 8/8 [00:04<00:00,  1.82it/s]\n",
            "                 all        500       2422      0.937      0.876      0.939      0.612\n",
            "\n",
            "     Epoch   gpu_mem       box       obj       cls    labels  img_size\n",
            "     69/99      3.3G    0.0285   0.02053  0.001049       195       416: 100% 125/125 [00:55<00:00,  2.24it/s]\n",
            "               Class     Images     Labels          P          R     mAP@.5 mAP@.5:.95: 100% 8/8 [00:05<00:00,  1.57it/s]\n",
            "                 all        500       2422      0.947       0.87      0.937      0.608\n",
            "\n",
            "     Epoch   gpu_mem       box       obj       cls    labels  img_size\n",
            "     70/99      3.3G   0.02859   0.02068  0.001129       261       416: 100% 125/125 [00:54<00:00,  2.28it/s]\n",
            "               Class     Images     Labels          P          R     mAP@.5 mAP@.5:.95: 100% 8/8 [00:04<00:00,  1.69it/s]\n",
            "                 all        500       2422      0.948      0.868      0.938      0.608\n",
            "\n",
            "     Epoch   gpu_mem       box       obj       cls    labels  img_size\n",
            "     71/99      3.3G   0.02863   0.02093  0.001148       214       416: 100% 125/125 [00:54<00:00,  2.29it/s]\n",
            "               Class     Images     Labels          P          R     mAP@.5 mAP@.5:.95: 100% 8/8 [00:04<00:00,  1.71it/s]\n",
            "                 all        500       2422      0.942      0.866      0.936      0.605\n",
            "\n",
            "     Epoch   gpu_mem       box       obj       cls    labels  img_size\n",
            "     72/99      3.3G   0.02827   0.02059  0.001102       233       416: 100% 125/125 [00:55<00:00,  2.25it/s]\n",
            "               Class     Images     Labels          P          R     mAP@.5 mAP@.5:.95: 100% 8/8 [00:04<00:00,  1.90it/s]\n",
            "                 all        500       2422      0.932      0.877      0.937      0.613\n",
            "\n",
            "     Epoch   gpu_mem       box       obj       cls    labels  img_size\n",
            "     73/99      3.3G   0.02831    0.0208  0.001035       197       416: 100% 125/125 [00:55<00:00,  2.27it/s]\n",
            "               Class     Images     Labels          P          R     mAP@.5 mAP@.5:.95: 100% 8/8 [00:04<00:00,  1.76it/s]\n",
            "                 all        500       2422       0.92      0.884      0.938      0.613\n",
            "\n",
            "     Epoch   gpu_mem       box       obj       cls    labels  img_size\n",
            "     74/99      3.3G   0.02828   0.02057  0.001099       235       416: 100% 125/125 [00:55<00:00,  2.26it/s]\n",
            "               Class     Images     Labels          P          R     mAP@.5 mAP@.5:.95: 100% 8/8 [00:04<00:00,  1.71it/s]\n",
            "                 all        500       2422      0.936       0.87      0.935      0.607\n",
            "\n",
            "     Epoch   gpu_mem       box       obj       cls    labels  img_size\n",
            "     75/99      3.3G   0.02831   0.02078  0.001112       206       416: 100% 125/125 [00:54<00:00,  2.28it/s]\n",
            "               Class     Images     Labels          P          R     mAP@.5 mAP@.5:.95: 100% 8/8 [00:04<00:00,  1.67it/s]\n",
            "                 all        500       2422      0.941      0.868      0.937      0.606\n",
            "\n",
            "     Epoch   gpu_mem       box       obj       cls    labels  img_size\n",
            "     76/99      3.3G   0.02826   0.02079  0.001108       221       416: 100% 125/125 [00:55<00:00,  2.27it/s]\n",
            "               Class     Images     Labels          P          R     mAP@.5 mAP@.5:.95: 100% 8/8 [00:04<00:00,  1.89it/s]\n",
            "                 all        500       2422      0.933      0.877      0.936      0.611\n",
            "\n",
            "     Epoch   gpu_mem       box       obj       cls    labels  img_size\n",
            "     77/99      3.3G   0.02832   0.02089  0.001001       242       416: 100% 125/125 [00:54<00:00,  2.29it/s]\n",
            "               Class     Images     Labels          P          R     mAP@.5 mAP@.5:.95: 100% 8/8 [00:04<00:00,  1.76it/s]\n",
            "                 all        500       2422      0.936      0.866      0.935      0.609\n",
            "\n",
            "     Epoch   gpu_mem       box       obj       cls    labels  img_size\n",
            "     78/99      3.3G   0.02805   0.02031  0.001079       199       416: 100% 125/125 [00:54<00:00,  2.29it/s]\n",
            "               Class     Images     Labels          P          R     mAP@.5 mAP@.5:.95: 100% 8/8 [00:04<00:00,  1.79it/s]\n",
            "                 all        500       2422      0.946      0.867      0.939      0.612\n",
            "\n",
            "     Epoch   gpu_mem       box       obj       cls    labels  img_size\n",
            "     79/99      3.3G   0.02787   0.02021 0.0009084       206       416: 100% 125/125 [00:55<00:00,  2.25it/s]\n",
            "               Class     Images     Labels          P          R     mAP@.5 mAP@.5:.95: 100% 8/8 [00:05<00:00,  1.57it/s]\n",
            "                 all        500       2422      0.942      0.863      0.939      0.613\n",
            "\n",
            "     Epoch   gpu_mem       box       obj       cls    labels  img_size\n",
            "     80/99      3.3G   0.02803   0.02039 0.0009449       218       416: 100% 125/125 [00:55<00:00,  2.27it/s]\n",
            "               Class     Images     Labels          P          R     mAP@.5 mAP@.5:.95: 100% 8/8 [00:04<00:00,  1.78it/s]\n",
            "                 all        500       2422      0.934      0.866      0.937      0.609\n",
            "\n",
            "     Epoch   gpu_mem       box       obj       cls    labels  img_size\n",
            "     81/99      3.3G   0.02776   0.02056  0.001003       180       416: 100% 125/125 [00:54<00:00,  2.29it/s]\n",
            "               Class     Images     Labels          P          R     mAP@.5 mAP@.5:.95: 100% 8/8 [00:04<00:00,  1.72it/s]\n",
            "                 all        500       2422      0.938      0.873       0.94      0.614\n",
            "\n",
            "     Epoch   gpu_mem       box       obj       cls    labels  img_size\n",
            "     82/99      3.3G   0.02794   0.02041 0.0009406       241       416: 100% 125/125 [00:54<00:00,  2.29it/s]\n",
            "               Class     Images     Labels          P          R     mAP@.5 mAP@.5:.95: 100% 8/8 [00:04<00:00,  1.73it/s]\n",
            "                 all        500       2422      0.924      0.872      0.937      0.612\n",
            "\n",
            "     Epoch   gpu_mem       box       obj       cls    labels  img_size\n",
            "     83/99      3.3G   0.02773   0.01976 0.0008889       201       416: 100% 125/125 [00:54<00:00,  2.29it/s]\n",
            "               Class     Images     Labels          P          R     mAP@.5 mAP@.5:.95: 100% 8/8 [00:05<00:00,  1.49it/s]\n",
            "                 all        500       2422      0.936       0.87      0.939      0.613\n",
            "\n",
            "     Epoch   gpu_mem       box       obj       cls    labels  img_size\n",
            "     84/99      3.3G   0.02783   0.02047 0.0009821       193       416: 100% 125/125 [00:55<00:00,  2.26it/s]\n",
            "               Class     Images     Labels          P          R     mAP@.5 mAP@.5:.95: 100% 8/8 [00:04<00:00,  1.92it/s]\n",
            "                 all        500       2422       0.94      0.874      0.939      0.609\n",
            "\n",
            "     Epoch   gpu_mem       box       obj       cls    labels  img_size\n",
            "     85/99      3.3G   0.02765   0.02019 0.0009079       249       416: 100% 125/125 [00:54<00:00,  2.29it/s]\n",
            "               Class     Images     Labels          P          R     mAP@.5 mAP@.5:.95: 100% 8/8 [00:04<00:00,  1.71it/s]\n",
            "                 all        500       2422      0.938      0.871      0.939      0.611\n",
            "\n",
            "     Epoch   gpu_mem       box       obj       cls    labels  img_size\n",
            "     86/99      3.3G   0.02746    0.0202 0.0009851       275       416: 100% 125/125 [00:55<00:00,  2.27it/s]\n",
            "               Class     Images     Labels          P          R     mAP@.5 mAP@.5:.95: 100% 8/8 [00:04<00:00,  1.78it/s]\n",
            "                 all        500       2422      0.938      0.874      0.938      0.612\n",
            "\n",
            "     Epoch   gpu_mem       box       obj       cls    labels  img_size\n",
            "     87/99      3.3G    0.0274   0.02004 0.0008855       213       416: 100% 125/125 [00:54<00:00,  2.28it/s]\n",
            "               Class     Images     Labels          P          R     mAP@.5 mAP@.5:.95: 100% 8/8 [00:04<00:00,  1.71it/s]\n",
            "                 all        500       2422      0.941      0.872      0.937       0.61\n",
            "\n",
            "     Epoch   gpu_mem       box       obj       cls    labels  img_size\n",
            "     88/99      3.3G   0.02719   0.02005 0.0009024       193       416: 100% 125/125 [00:56<00:00,  2.22it/s]\n",
            "               Class     Images     Labels          P          R     mAP@.5 mAP@.5:.95: 100% 8/8 [00:03<00:00,  2.12it/s]\n",
            "                 all        500       2422      0.932      0.874       0.94      0.612\n",
            "\n",
            "     Epoch   gpu_mem       box       obj       cls    labels  img_size\n",
            "     89/99      3.3G   0.02741   0.02023 0.0009458       208       416: 100% 125/125 [00:55<00:00,  2.27it/s]\n",
            "               Class     Images     Labels          P          R     mAP@.5 mAP@.5:.95: 100% 8/8 [00:05<00:00,  1.57it/s]\n",
            "                 all        500       2422      0.945      0.869      0.939      0.614\n",
            "\n",
            "     Epoch   gpu_mem       box       obj       cls    labels  img_size\n",
            "     90/99      3.3G   0.02743   0.01996 0.0008811       201       416: 100% 125/125 [00:54<00:00,  2.29it/s]\n",
            "               Class     Images     Labels          P          R     mAP@.5 mAP@.5:.95: 100% 8/8 [00:04<00:00,  1.70it/s]\n",
            "                 all        500       2422      0.931       0.88       0.94      0.612\n",
            "\n",
            "     Epoch   gpu_mem       box       obj       cls    labels  img_size\n",
            "     91/99      3.3G   0.02691   0.01945 0.0008107       254       416: 100% 125/125 [00:55<00:00,  2.27it/s]\n",
            "               Class     Images     Labels          P          R     mAP@.5 mAP@.5:.95: 100% 8/8 [00:04<00:00,  1.95it/s]\n",
            "                 all        500       2422      0.929      0.886      0.939      0.614\n",
            "\n",
            "     Epoch   gpu_mem       box       obj       cls    labels  img_size\n",
            "     92/99      3.3G   0.02708   0.01964 0.0007479       190       416: 100% 125/125 [00:55<00:00,  2.27it/s]\n",
            "               Class     Images     Labels          P          R     mAP@.5 mAP@.5:.95: 100% 8/8 [00:04<00:00,  1.85it/s]\n",
            "                 all        500       2422      0.934      0.877      0.938      0.614\n",
            "\n",
            "     Epoch   gpu_mem       box       obj       cls    labels  img_size\n",
            "     93/99      3.3G   0.02689    0.0197 0.0008951       202       416: 100% 125/125 [00:55<00:00,  2.26it/s]\n",
            "               Class     Images     Labels          P          R     mAP@.5 mAP@.5:.95: 100% 8/8 [00:04<00:00,  1.70it/s]\n",
            "                 all        500       2422       0.93      0.882      0.942      0.614\n",
            "\n",
            "     Epoch   gpu_mem       box       obj       cls    labels  img_size\n",
            "     94/99      3.3G   0.02724   0.01991 0.0009509       218       416: 100% 125/125 [00:54<00:00,  2.28it/s]\n",
            "               Class     Images     Labels          P          R     mAP@.5 mAP@.5:.95: 100% 8/8 [00:04<00:00,  1.72it/s]\n",
            "                 all        500       2422      0.924      0.881      0.937      0.613\n",
            "\n",
            "     Epoch   gpu_mem       box       obj       cls    labels  img_size\n",
            "     95/99      3.3G    0.0272   0.01992 0.0008422       236       416: 100% 125/125 [00:54<00:00,  2.28it/s]\n",
            "               Class     Images     Labels          P          R     mAP@.5 mAP@.5:.95: 100% 8/8 [00:04<00:00,  1.82it/s]\n",
            "                 all        500       2422      0.941      0.871      0.937      0.614\n",
            "\n",
            "     Epoch   gpu_mem       box       obj       cls    labels  img_size\n",
            "     96/99      3.3G   0.02697   0.01945 0.0008603       226       416: 100% 125/125 [00:54<00:00,  2.29it/s]\n",
            "               Class     Images     Labels          P          R     mAP@.5 mAP@.5:.95: 100% 8/8 [00:04<00:00,  1.68it/s]\n",
            "                 all        500       2422       0.93      0.877      0.938      0.614\n",
            "\n",
            "     Epoch   gpu_mem       box       obj       cls    labels  img_size\n",
            "     97/99      3.3G   0.02698   0.02024 0.0008526       206       416: 100% 125/125 [00:55<00:00,  2.25it/s]\n",
            "               Class     Images     Labels          P          R     mAP@.5 mAP@.5:.95: 100% 8/8 [00:04<00:00,  1.98it/s]\n",
            "                 all        500       2422      0.932      0.876      0.938      0.614\n",
            "\n",
            "     Epoch   gpu_mem       box       obj       cls    labels  img_size\n",
            "     98/99      3.3G   0.02686   0.01992 0.0007532       235       416: 100% 125/125 [00:55<00:00,  2.23it/s]\n",
            "               Class     Images     Labels          P          R     mAP@.5 mAP@.5:.95: 100% 8/8 [00:03<00:00,  2.01it/s]\n",
            "                 all        500       2422      0.939      0.872      0.938      0.614\n",
            "\n",
            "     Epoch   gpu_mem       box       obj       cls    labels  img_size\n",
            "     99/99      3.3G   0.02664   0.01967 0.0007585       212       416: 100% 125/125 [00:54<00:00,  2.29it/s]\n",
            "               Class     Images     Labels          P          R     mAP@.5 mAP@.5:.95: 100% 8/8 [00:05<00:00,  1.47it/s]\n",
            "                 all        500       2422      0.935      0.876      0.938      0.614\n",
            "\n",
            "100 epochs completed in 1.673 hours.\n",
            "Optimizer stripped from hard-hat-detection/yolov5s-model_100epochs/weights/last.pt, 14.3MB\n",
            "Optimizer stripped from hard-hat-detection/yolov5s-model_100epochs/weights/best.pt, 14.3MB\n",
            "\n",
            "Validating hard-hat-detection/yolov5s-model_100epochs/weights/best.pt...\n",
            "Fusing layers... \n",
            "Model summary: 213 layers, 7015519 parameters, 0 gradients\n",
            "               Class     Images     Labels          P          R     mAP@.5 mAP@.5:.95: 100% 8/8 [00:06<00:00,  1.26it/s]\n",
            "                 all        500       2422      0.939      0.871       0.94      0.614\n",
            "              helmet        500       1890      0.956      0.891      0.956      0.626\n",
            "                head        500        532      0.923      0.851      0.924      0.603\n",
            "Results saved to \u001b[1mhard-hat-detection/yolov5s-model_100epochs\u001b[0m\n",
            "\u001b[34m\u001b[1mwandb\u001b[0m: Waiting for W&B process to finish... \u001b[32m(success).\u001b[0m\n",
            "\u001b[34m\u001b[1mwandb\u001b[0m:                                                                                \n",
            "\u001b[34m\u001b[1mwandb\u001b[0m: \n",
            "\u001b[34m\u001b[1mwandb\u001b[0m: Run history:\n",
            "\u001b[34m\u001b[1mwandb\u001b[0m:      metrics/mAP_0.5 ▁▅▇▇▇▇██████████████████████████████████\n",
            "\u001b[34m\u001b[1mwandb\u001b[0m: metrics/mAP_0.5:0.95 ▁▄▆▇▇▇▇▇▇▇▇▇██▇█████████████████████████\n",
            "\u001b[34m\u001b[1mwandb\u001b[0m:    metrics/precision ▁▅▇▇▇▇▇▇██▇█████████████████████████████\n",
            "\u001b[34m\u001b[1mwandb\u001b[0m:       metrics/recall ▁▄▆▇▇▆▇▇▇▇▇██▇▇▇███▇█▇██████████████████\n",
            "\u001b[34m\u001b[1mwandb\u001b[0m:       train/box_loss █▄▃▂▂▂▂▂▂▂▂▂▂▂▂▂▂▁▁▁▁▁▁▁▁▁▁▁▁▁▁▁▁▁▁▁▁▁▁▁\n",
            "\u001b[34m\u001b[1mwandb\u001b[0m:       train/cls_loss █▃▂▂▂▂▂▂▁▂▁▁▁▁▁▁▁▁▁▁▁▁▁▁▁▁▁▁▁▁▁▁▁▁▁▁▁▁▁▁\n",
            "\u001b[34m\u001b[1mwandb\u001b[0m:       train/obj_loss █▅▄▄▃▃▃▃▃▃▃▂▂▂▂▂▂▂▂▂▂▂▂▂▂▂▂▂▂▂▂▁▁▁▁▁▁▁▁▁\n",
            "\u001b[34m\u001b[1mwandb\u001b[0m:         val/box_loss █▅▃▂▂▂▂▂▂▂▂▂▁▁▁▁▁▁▁▁▁▁▁▁▁▁▁▁▁▁▁▁▁▁▁▁▁▁▁▁\n",
            "\u001b[34m\u001b[1mwandb\u001b[0m:         val/cls_loss █▃▂▂▂▂▂▂▁▂▂▂▁▂▁▁▁▁▁▁▁▁▁▁▁▁▁▁▁▁▁▁▁▁▁▁▁▁▁▁\n",
            "\u001b[34m\u001b[1mwandb\u001b[0m:         val/obj_loss █▅▃▃▃▂▂▂▂▂▂▂▂▂▂▂▁▁▁▁▁▁▁▁▁▁▁▁▁▁▁▁▁▁▁▁▁▁▁▁\n",
            "\u001b[34m\u001b[1mwandb\u001b[0m:                x/lr0 ▃████▇▇▇▇▇▆▆▆▆▆▅▅▅▅▅▅▄▄▄▄▄▃▃▃▃▃▃▂▂▂▂▂▁▁▁\n",
            "\u001b[34m\u001b[1mwandb\u001b[0m:                x/lr1 ▃████▇▇▇▇▇▆▆▆▆▆▅▅▅▅▅▅▄▄▄▄▄▃▃▃▃▃▃▂▂▂▂▂▁▁▁\n",
            "\u001b[34m\u001b[1mwandb\u001b[0m:                x/lr2 █▂▂▂▂▂▂▂▂▂▂▂▂▂▂▂▂▂▂▂▁▁▁▁▁▁▁▁▁▁▁▁▁▁▁▁▁▁▁▁\n",
            "\u001b[34m\u001b[1mwandb\u001b[0m: \n",
            "\u001b[34m\u001b[1mwandb\u001b[0m: Run summary:\n",
            "\u001b[34m\u001b[1mwandb\u001b[0m:           best/epoch 81\n",
            "\u001b[34m\u001b[1mwandb\u001b[0m:         best/mAP_0.5 0.94017\n",
            "\u001b[34m\u001b[1mwandb\u001b[0m:    best/mAP_0.5:0.95 0.61409\n",
            "\u001b[34m\u001b[1mwandb\u001b[0m:       best/precision 0.9378\n",
            "\u001b[34m\u001b[1mwandb\u001b[0m:          best/recall 0.87282\n",
            "\u001b[34m\u001b[1mwandb\u001b[0m:      metrics/mAP_0.5 0.94006\n",
            "\u001b[34m\u001b[1mwandb\u001b[0m: metrics/mAP_0.5:0.95 0.61431\n",
            "\u001b[34m\u001b[1mwandb\u001b[0m:    metrics/precision 0.93914\n",
            "\u001b[34m\u001b[1mwandb\u001b[0m:       metrics/recall 0.87087\n",
            "\u001b[34m\u001b[1mwandb\u001b[0m:       train/box_loss 0.02664\n",
            "\u001b[34m\u001b[1mwandb\u001b[0m:       train/cls_loss 0.00076\n",
            "\u001b[34m\u001b[1mwandb\u001b[0m:       train/obj_loss 0.01967\n",
            "\u001b[34m\u001b[1mwandb\u001b[0m:         val/box_loss 0.02758\n",
            "\u001b[34m\u001b[1mwandb\u001b[0m:         val/cls_loss 0.00159\n",
            "\u001b[34m\u001b[1mwandb\u001b[0m:         val/obj_loss 0.01466\n",
            "\u001b[34m\u001b[1mwandb\u001b[0m:                x/lr0 0.0003\n",
            "\u001b[34m\u001b[1mwandb\u001b[0m:                x/lr1 0.0003\n",
            "\u001b[34m\u001b[1mwandb\u001b[0m:                x/lr2 0.0003\n",
            "\u001b[34m\u001b[1mwandb\u001b[0m: \n",
            "\u001b[34m\u001b[1mwandb\u001b[0m: Synced \u001b[33myolov5s-model_100epochs\u001b[0m: \u001b[34m\u001b[4mhttps://wandb.ai/baskoroadi/hard-hat-detection/runs/14j6h14q\u001b[0m\n",
            "\u001b[34m\u001b[1mwandb\u001b[0m: Synced 5 W&B file(s), 337 media file(s), 1 artifact file(s) and 0 other file(s)\n",
            "\u001b[34m\u001b[1mwandb\u001b[0m: Find logs at: \u001b[35m\u001b[1m./wandb/run-20220616_115638-14j6h14q/logs\u001b[0m\n",
            "1:41:22.109097\n"
          ]
        }
      ]
    },
    {
      "cell_type": "markdown",
      "source": [
        "# Preparation for detection and evaluation"
      ],
      "metadata": {
        "id": "1jcagYLxle47"
      }
    },
    {
      "cell_type": "code",
      "source": [
        "id_wandb = \"14j6h14q\""
      ],
      "metadata": {
        "id": "NOFMebDLhXcX"
      },
      "execution_count": null,
      "outputs": []
    },
    {
      "cell_type": "code",
      "source": [
        "run = wandb.init(project=\"hard-hat-detection\", entity=\"baskoroadi\", resume=\"must\", id=id_wandb)"
      ],
      "metadata": {
        "colab": {
          "base_uri": "https://localhost:8080/",
          "height": 86
        },
        "id": "x_W8r7zLg8EZ",
        "outputId": "2feb32f1-1ad4-4461-ab9a-9d363af887ca"
      },
      "execution_count": null,
      "outputs": [
        {
          "output_type": "stream",
          "name": "stderr",
          "text": [
            "\u001b[34m\u001b[1mwandb\u001b[0m: Currently logged in as: \u001b[33mbaskoroadi\u001b[0m. Use \u001b[1m`wandb login --relogin`\u001b[0m to force relogin\n"
          ]
        },
        {
          "output_type": "display_data",
          "data": {
            "text/plain": [
              "<IPython.core.display.HTML object>"
            ],
            "text/html": [
              "Tracking run with wandb version 0.12.19"
            ]
          },
          "metadata": {}
        },
        {
          "output_type": "display_data",
          "data": {
            "text/plain": [
              "<IPython.core.display.HTML object>"
            ],
            "text/html": [
              "Run data is saved locally in <code>/content/wandb/run-20220623_075000-14j6h14q</code>"
            ]
          },
          "metadata": {}
        },
        {
          "output_type": "display_data",
          "data": {
            "text/plain": [
              "<IPython.core.display.HTML object>"
            ],
            "text/html": [
              "Resuming run <strong><a href=\"https://wandb.ai/baskoroadi/hard-hat-detection/runs/14j6h14q\" target=\"_blank\">yolov5s-model_100epochs</a></strong> to <a href=\"https://wandb.ai/baskoroadi/hard-hat-detection\" target=\"_blank\">Weights & Biases</a> (<a href=\"https://wandb.me/run\" target=\"_blank\">docs</a>)<br/>"
            ]
          },
          "metadata": {}
        }
      ]
    },
    {
      "cell_type": "code",
      "source": [
        "# Download Weight\n",
        "run.use_artifact(f'run_{id_wandb}_model:latest').download(root=\"/content\")"
      ],
      "metadata": {
        "colab": {
          "base_uri": "https://localhost:8080/",
          "height": 35
        },
        "id": "CfqQrb6yilyw",
        "outputId": "c8992abe-fd92-46ad-b4b4-02bd99930e5c"
      },
      "execution_count": null,
      "outputs": [
        {
          "output_type": "execute_result",
          "data": {
            "text/plain": [
              "'/content'"
            ],
            "application/vnd.google.colaboratory.intrinsic+json": {
              "type": "string"
            }
          },
          "metadata": {},
          "execution_count": 26
        }
      ]
    },
    {
      "cell_type": "markdown",
      "source": [
        "# Detection"
      ],
      "metadata": {
        "id": "n_3jlwrb6MJp"
      }
    },
    {
      "cell_type": "code",
      "source": [
        "%cd /content\n",
        "\n",
        "proj_name = \"hard-hat-detection\"\n",
        "run_name = f\"{model_name}-model_{epochs}epochs_detection\"\n",
        "\n",
        "!python yolov5/detect.py \\\n",
        "    --source '/content/Dataset/images/test' \\\n",
        "    --weight '/content/best.pt' \\\n",
        "    --project {proj_name} \\\n",
        "    --name {run_name}"
      ],
      "metadata": {
        "id": "kS5JlvHWAiA0",
        "colab": {
          "base_uri": "https://localhost:8080/"
        },
        "outputId": "cfb054ef-81c5-4a14-b1e8-481c7b6d37e2"
      },
      "execution_count": null,
      "outputs": [
        {
          "output_type": "stream",
          "name": "stdout",
          "text": [
            "/content\n",
            "\u001b[34m\u001b[1mdetect: \u001b[0mweights=['/content/best.pt'], source=/content/Dataset/images/test, data=yolov5/data/coco128.yaml, imgsz=[640, 640], conf_thres=0.25, iou_thres=0.45, max_det=1000, device=, view_img=False, save_txt=False, save_conf=False, save_crop=False, nosave=False, classes=None, agnostic_nms=False, augment=False, visualize=False, update=False, project=hard-hat-detection, name=yolov5s-model_100epochs, exist_ok=False, line_thickness=3, hide_labels=False, hide_conf=False, half=False, dnn=False\n",
            "YOLOv5 🚀 v6.1-259-ga2a1ed2 Python-3.7.13 torch-1.11.0+cu113 CUDA:0 (Tesla P100-PCIE-16GB, 16281MiB)\n",
            "\n",
            "Fusing layers... \n",
            "Model summary: 213 layers, 7015519 parameters, 0 gradients\n",
            "image 1/500 /content/Dataset/images/test/hard_hat_workers1005.png: 640x640 5 helmets, Done. (0.010s)\n",
            "image 2/500 /content/Dataset/images/test/hard_hat_workers1058.png: 640x640 6 helmets, Done. (0.010s)\n",
            "image 3/500 /content/Dataset/images/test/hard_hat_workers1061.png: 640x640 3 helmets, Done. (0.011s)\n",
            "image 4/500 /content/Dataset/images/test/hard_hat_workers1071.png: 640x640 9 helmets, Done. (0.011s)\n",
            "image 5/500 /content/Dataset/images/test/hard_hat_workers1077.png: 640x640 4 helmets, 3 heads, Done. (0.010s)\n",
            "image 6/500 /content/Dataset/images/test/hard_hat_workers1088.png: 640x640 2 helmets, Done. (0.011s)\n",
            "image 7/500 /content/Dataset/images/test/hard_hat_workers1106.png: 640x640 5 helmets, 3 heads, Done. (0.011s)\n",
            "image 8/500 /content/Dataset/images/test/hard_hat_workers1108.png: 640x640 2 helmets, 3 heads, Done. (0.010s)\n",
            "image 9/500 /content/Dataset/images/test/hard_hat_workers1111.png: 640x640 3 helmets, 1 head, Done. (0.010s)\n",
            "image 10/500 /content/Dataset/images/test/hard_hat_workers112.png: 640x640 1 helmet, Done. (0.011s)\n",
            "image 11/500 /content/Dataset/images/test/hard_hat_workers1127.png: 640x640 2 helmets, Done. (0.012s)\n",
            "image 12/500 /content/Dataset/images/test/hard_hat_workers1136.png: 640x640 4 helmets, Done. (0.011s)\n",
            "image 13/500 /content/Dataset/images/test/hard_hat_workers1142.png: 640x640 4 helmets, Done. (0.010s)\n",
            "image 14/500 /content/Dataset/images/test/hard_hat_workers1167.png: 640x640 3 helmets, Done. (0.010s)\n",
            "image 15/500 /content/Dataset/images/test/hard_hat_workers1191.png: 640x640 2 helmets, 2 heads, Done. (0.012s)\n",
            "image 16/500 /content/Dataset/images/test/hard_hat_workers1192.png: 640x640 2 helmets, Done. (0.010s)\n",
            "image 17/500 /content/Dataset/images/test/hard_hat_workers12.png: 640x640 3 helmets, 1 head, Done. (0.010s)\n",
            "image 18/500 /content/Dataset/images/test/hard_hat_workers1216.png: 640x640 1 helmet, Done. (0.010s)\n",
            "image 19/500 /content/Dataset/images/test/hard_hat_workers1230.png: 640x640 2 helmets, 9 heads, Done. (0.010s)\n",
            "image 20/500 /content/Dataset/images/test/hard_hat_workers1234.png: 640x640 4 helmets, Done. (0.010s)\n",
            "image 21/500 /content/Dataset/images/test/hard_hat_workers1252.png: 640x640 4 helmets, 6 heads, Done. (0.011s)\n",
            "image 22/500 /content/Dataset/images/test/hard_hat_workers1267.png: 640x640 3 helmets, Done. (0.010s)\n",
            "image 23/500 /content/Dataset/images/test/hard_hat_workers127.png: 640x640 2 helmets, Done. (0.010s)\n",
            "image 24/500 /content/Dataset/images/test/hard_hat_workers1273.png: 640x640 10 helmets, Done. (0.010s)\n",
            "image 25/500 /content/Dataset/images/test/hard_hat_workers128.png: 640x640 1 helmet, Done. (0.011s)\n",
            "image 26/500 /content/Dataset/images/test/hard_hat_workers1280.png: 640x640 6 helmets, Done. (0.013s)\n",
            "image 27/500 /content/Dataset/images/test/hard_hat_workers1281.png: 640x640 2 helmets, 4 heads, Done. (0.011s)\n",
            "image 28/500 /content/Dataset/images/test/hard_hat_workers129.png: 640x640 3 helmets, Done. (0.012s)\n",
            "image 29/500 /content/Dataset/images/test/hard_hat_workers1291.png: 640x640 6 helmets, 1 head, Done. (0.011s)\n",
            "image 30/500 /content/Dataset/images/test/hard_hat_workers1301.png: 640x640 3 helmets, Done. (0.011s)\n",
            "image 31/500 /content/Dataset/images/test/hard_hat_workers1307.png: 640x640 3 helmets, Done. (0.011s)\n",
            "image 32/500 /content/Dataset/images/test/hard_hat_workers1315.png: 640x640 2 helmets, Done. (0.012s)\n",
            "image 33/500 /content/Dataset/images/test/hard_hat_workers1331.png: 640x640 1 helmet, Done. (0.011s)\n",
            "image 34/500 /content/Dataset/images/test/hard_hat_workers1337.png: 640x640 4 helmets, Done. (0.010s)\n",
            "image 35/500 /content/Dataset/images/test/hard_hat_workers1340.png: 640x640 8 helmets, 9 heads, Done. (0.010s)\n",
            "image 36/500 /content/Dataset/images/test/hard_hat_workers1349.png: 640x640 4 helmets, 12 heads, Done. (0.010s)\n",
            "image 37/500 /content/Dataset/images/test/hard_hat_workers1351.png: 640x640 4 helmets, Done. (0.010s)\n",
            "image 38/500 /content/Dataset/images/test/hard_hat_workers1397.png: 640x640 13 helmets, Done. (0.012s)\n",
            "image 39/500 /content/Dataset/images/test/hard_hat_workers1400.png: 640x640 7 helmets, Done. (0.010s)\n",
            "image 40/500 /content/Dataset/images/test/hard_hat_workers1401.png: 640x640 6 helmets, Done. (0.011s)\n",
            "image 41/500 /content/Dataset/images/test/hard_hat_workers1402.png: 640x640 4 helmets, Done. (0.010s)\n",
            "image 42/500 /content/Dataset/images/test/hard_hat_workers1413.png: 640x640 22 heads, Done. (0.010s)\n",
            "image 43/500 /content/Dataset/images/test/hard_hat_workers1424.png: 640x640 3 helmets, Done. (0.012s)\n",
            "image 44/500 /content/Dataset/images/test/hard_hat_workers1442.png: 640x640 1 helmet, Done. (0.010s)\n",
            "image 45/500 /content/Dataset/images/test/hard_hat_workers1449.png: 640x640 2 helmets, Done. (0.010s)\n",
            "image 46/500 /content/Dataset/images/test/hard_hat_workers1452.png: 640x640 3 helmets, Done. (0.010s)\n",
            "image 47/500 /content/Dataset/images/test/hard_hat_workers1463.png: 640x640 1 helmet, Done. (0.011s)\n",
            "image 48/500 /content/Dataset/images/test/hard_hat_workers1464.png: 640x640 1 helmet, Done. (0.010s)\n",
            "image 49/500 /content/Dataset/images/test/hard_hat_workers1475.png: 640x640 17 heads, Done. (0.010s)\n",
            "image 50/500 /content/Dataset/images/test/hard_hat_workers1481.png: 640x640 11 helmets, Done. (0.010s)\n",
            "image 51/500 /content/Dataset/images/test/hard_hat_workers1491.png: 640x640 8 helmets, Done. (0.011s)\n",
            "image 52/500 /content/Dataset/images/test/hard_hat_workers1500.png: 640x640 9 helmets, Done. (0.010s)\n",
            "image 53/500 /content/Dataset/images/test/hard_hat_workers151.png: 640x640 4 helmets, Done. (0.010s)\n",
            "image 54/500 /content/Dataset/images/test/hard_hat_workers1514.png: 640x640 4 helmets, Done. (0.010s)\n",
            "image 55/500 /content/Dataset/images/test/hard_hat_workers1524.png: 640x640 10 helmets, Done. (0.010s)\n",
            "image 56/500 /content/Dataset/images/test/hard_hat_workers1529.png: 640x640 2 helmets, Done. (0.010s)\n",
            "image 57/500 /content/Dataset/images/test/hard_hat_workers1547.png: 640x640 5 helmets, Done. (0.010s)\n",
            "image 58/500 /content/Dataset/images/test/hard_hat_workers1554.png: 640x640 3 helmets, Done. (0.010s)\n",
            "image 59/500 /content/Dataset/images/test/hard_hat_workers1563.png: 640x640 2 helmets, Done. (0.011s)\n",
            "image 60/500 /content/Dataset/images/test/hard_hat_workers1567.png: 640x640 2 helmets, 2 heads, Done. (0.011s)\n",
            "image 61/500 /content/Dataset/images/test/hard_hat_workers1573.png: 640x640 6 helmets, Done. (0.010s)\n",
            "image 62/500 /content/Dataset/images/test/hard_hat_workers1577.png: 640x640 6 helmets, Done. (0.010s)\n",
            "image 63/500 /content/Dataset/images/test/hard_hat_workers1578.png: 640x640 10 helmets, Done. (0.011s)\n",
            "image 64/500 /content/Dataset/images/test/hard_hat_workers1580.png: 640x640 3 helmets, 1 head, Done. (0.010s)\n",
            "image 65/500 /content/Dataset/images/test/hard_hat_workers1586.png: 640x640 1 helmet, Done. (0.010s)\n",
            "image 66/500 /content/Dataset/images/test/hard_hat_workers1588.png: 640x640 3 helmets, Done. (0.010s)\n",
            "image 67/500 /content/Dataset/images/test/hard_hat_workers1594.png: 640x640 3 helmets, Done. (0.010s)\n",
            "image 68/500 /content/Dataset/images/test/hard_hat_workers1599.png: 640x640 2 helmets, Done. (0.011s)\n",
            "image 69/500 /content/Dataset/images/test/hard_hat_workers1619.png: 640x640 8 helmets, 2 heads, Done. (0.010s)\n",
            "image 70/500 /content/Dataset/images/test/hard_hat_workers1651.png: 640x640 2 helmets, Done. (0.010s)\n",
            "image 71/500 /content/Dataset/images/test/hard_hat_workers1682.png: 640x640 2 helmets, Done. (0.010s)\n",
            "image 72/500 /content/Dataset/images/test/hard_hat_workers1686.png: 640x640 9 helmets, Done. (0.013s)\n",
            "image 73/500 /content/Dataset/images/test/hard_hat_workers1687.png: 640x640 2 helmets, Done. (0.010s)\n",
            "image 74/500 /content/Dataset/images/test/hard_hat_workers1692.png: 640x640 1 helmet, Done. (0.010s)\n",
            "image 75/500 /content/Dataset/images/test/hard_hat_workers17.png: 640x640 3 helmets, Done. (0.010s)\n",
            "image 76/500 /content/Dataset/images/test/hard_hat_workers1709.png: 640x640 2 helmets, Done. (0.010s)\n",
            "image 77/500 /content/Dataset/images/test/hard_hat_workers1713.png: 640x640 18 helmets, Done. (0.011s)\n",
            "image 78/500 /content/Dataset/images/test/hard_hat_workers1717.png: 640x640 9 helmets, Done. (0.011s)\n",
            "image 79/500 /content/Dataset/images/test/hard_hat_workers1718.png: 640x640 3 helmets, Done. (0.011s)\n",
            "image 80/500 /content/Dataset/images/test/hard_hat_workers1721.png: 640x640 1 helmet, Done. (0.013s)\n",
            "image 81/500 /content/Dataset/images/test/hard_hat_workers1727.png: 640x640 4 helmets, Done. (0.010s)\n",
            "image 82/500 /content/Dataset/images/test/hard_hat_workers1731.png: 640x640 1 helmet, Done. (0.010s)\n",
            "image 83/500 /content/Dataset/images/test/hard_hat_workers1759.png: 640x640 5 helmets, Done. (0.010s)\n",
            "image 84/500 /content/Dataset/images/test/hard_hat_workers1764.png: 640x640 2 helmets, Done. (0.012s)\n",
            "image 85/500 /content/Dataset/images/test/hard_hat_workers1765.png: 640x640 3 helmets, Done. (0.011s)\n",
            "image 86/500 /content/Dataset/images/test/hard_hat_workers1778.png: 640x640 7 helmets, Done. (0.011s)\n",
            "image 87/500 /content/Dataset/images/test/hard_hat_workers1787.png: 640x640 4 helmets, 7 heads, Done. (0.011s)\n",
            "image 88/500 /content/Dataset/images/test/hard_hat_workers1804.png: 640x640 11 heads, Done. (0.010s)\n",
            "image 89/500 /content/Dataset/images/test/hard_hat_workers1809.png: 640x640 6 helmets, 1 head, Done. (0.010s)\n",
            "image 90/500 /content/Dataset/images/test/hard_hat_workers1814.png: 640x640 2 helmets, Done. (0.010s)\n",
            "image 91/500 /content/Dataset/images/test/hard_hat_workers1823.png: 640x640 21 helmets, 1 head, Done. (0.010s)\n",
            "image 92/500 /content/Dataset/images/test/hard_hat_workers183.png: 640x640 2 helmets, Done. (0.010s)\n",
            "image 93/500 /content/Dataset/images/test/hard_hat_workers1830.png: 640x640 3 helmets, Done. (0.010s)\n",
            "image 94/500 /content/Dataset/images/test/hard_hat_workers1831.png: 640x640 5 helmets, Done. (0.013s)\n",
            "image 95/500 /content/Dataset/images/test/hard_hat_workers1832.png: 640x640 4 helmets, Done. (0.012s)\n",
            "image 96/500 /content/Dataset/images/test/hard_hat_workers1843.png: 640x640 18 helmets, 3 heads, Done. (0.010s)\n",
            "image 97/500 /content/Dataset/images/test/hard_hat_workers1849.png: 640x640 3 helmets, Done. (0.010s)\n",
            "image 98/500 /content/Dataset/images/test/hard_hat_workers185.png: 640x640 3 helmets, Done. (0.010s)\n",
            "image 99/500 /content/Dataset/images/test/hard_hat_workers1859.png: 640x640 7 helmets, Done. (0.010s)\n",
            "image 100/500 /content/Dataset/images/test/hard_hat_workers1880.png: 640x640 2 helmets, Done. (0.010s)\n",
            "image 101/500 /content/Dataset/images/test/hard_hat_workers1897.png: 640x640 2 helmets, Done. (0.010s)\n",
            "image 102/500 /content/Dataset/images/test/hard_hat_workers1899.png: 640x640 10 helmets, 1 head, Done. (0.010s)\n",
            "image 103/500 /content/Dataset/images/test/hard_hat_workers1900.png: 640x640 4 helmets, Done. (0.011s)\n",
            "image 104/500 /content/Dataset/images/test/hard_hat_workers1908.png: 640x640 1 helmet, Done. (0.010s)\n",
            "image 105/500 /content/Dataset/images/test/hard_hat_workers1912.png: 640x640 2 helmets, Done. (0.010s)\n",
            "image 106/500 /content/Dataset/images/test/hard_hat_workers1913.png: 640x640 1 helmet, Done. (0.010s)\n",
            "image 107/500 /content/Dataset/images/test/hard_hat_workers1925.png: 640x640 2 helmets, Done. (0.010s)\n",
            "image 108/500 /content/Dataset/images/test/hard_hat_workers1927.png: 640x640 2 helmets, Done. (0.010s)\n",
            "image 109/500 /content/Dataset/images/test/hard_hat_workers1933.png: 640x640 1 helmet, Done. (0.011s)\n",
            "image 110/500 /content/Dataset/images/test/hard_hat_workers194.png: 640x640 8 helmets, Done. (0.010s)\n",
            "image 111/500 /content/Dataset/images/test/hard_hat_workers1940.png: 640x640 4 helmets, Done. (0.010s)\n",
            "image 112/500 /content/Dataset/images/test/hard_hat_workers1949.png: 640x640 1 helmet, Done. (0.010s)\n",
            "image 113/500 /content/Dataset/images/test/hard_hat_workers1952.png: 640x640 7 helmets, Done. (0.010s)\n",
            "image 114/500 /content/Dataset/images/test/hard_hat_workers1956.png: 640x640 4 helmets, Done. (0.013s)\n",
            "image 115/500 /content/Dataset/images/test/hard_hat_workers1966.png: 640x640 3 helmets, Done. (0.010s)\n",
            "image 116/500 /content/Dataset/images/test/hard_hat_workers1998.png: 640x640 1 helmet, Done. (0.012s)\n",
            "image 117/500 /content/Dataset/images/test/hard_hat_workers2009.png: 640x640 1 helmet, Done. (0.010s)\n",
            "image 118/500 /content/Dataset/images/test/hard_hat_workers2018.png: 640x640 1 helmet, Done. (0.010s)\n",
            "image 119/500 /content/Dataset/images/test/hard_hat_workers2023.png: 640x640 2 helmets, Done. (0.010s)\n",
            "image 120/500 /content/Dataset/images/test/hard_hat_workers2025.png: 640x640 1 helmet, Done. (0.010s)\n",
            "image 121/500 /content/Dataset/images/test/hard_hat_workers2043.png: 640x640 4 helmets, Done. (0.010s)\n",
            "image 122/500 /content/Dataset/images/test/hard_hat_workers2045.png: 640x640 1 helmet, Done. (0.010s)\n",
            "image 123/500 /content/Dataset/images/test/hard_hat_workers2066.png: 640x640 4 helmets, 1 head, Done. (0.010s)\n",
            "image 124/500 /content/Dataset/images/test/hard_hat_workers2068.png: 640x640 3 helmets, Done. (0.010s)\n",
            "image 125/500 /content/Dataset/images/test/hard_hat_workers208.png: 640x640 2 helmets, Done. (0.010s)\n",
            "image 126/500 /content/Dataset/images/test/hard_hat_workers2080.png: 640x640 5 helmets, 1 head, Done. (0.010s)\n",
            "image 127/500 /content/Dataset/images/test/hard_hat_workers209.png: 640x640 1 helmet, Done. (0.010s)\n",
            "image 128/500 /content/Dataset/images/test/hard_hat_workers2104.png: 640x640 2 helmets, Done. (0.010s)\n",
            "image 129/500 /content/Dataset/images/test/hard_hat_workers2106.png: 640x640 2 helmets, Done. (0.010s)\n",
            "image 130/500 /content/Dataset/images/test/hard_hat_workers2128.png: 640x640 2 helmets, Done. (0.010s)\n",
            "image 131/500 /content/Dataset/images/test/hard_hat_workers213.png: 640x640 3 helmets, Done. (0.010s)\n",
            "image 132/500 /content/Dataset/images/test/hard_hat_workers2139.png: 640x640 4 helmets, Done. (0.010s)\n",
            "image 133/500 /content/Dataset/images/test/hard_hat_workers2150.png: 640x640 2 helmets, Done. (0.013s)\n",
            "image 134/500 /content/Dataset/images/test/hard_hat_workers2167.png: 640x640 6 helmets, Done. (0.010s)\n",
            "image 135/500 /content/Dataset/images/test/hard_hat_workers2172.png: 640x640 2 helmets, 4 heads, Done. (0.012s)\n",
            "image 136/500 /content/Dataset/images/test/hard_hat_workers2184.png: 640x640 5 helmets, Done. (0.011s)\n",
            "image 137/500 /content/Dataset/images/test/hard_hat_workers2189.png: 640x640 8 helmets, Done. (0.013s)\n",
            "image 138/500 /content/Dataset/images/test/hard_hat_workers2193.png: 640x640 2 helmets, 2 heads, Done. (0.011s)\n",
            "image 139/500 /content/Dataset/images/test/hard_hat_workers2198.png: 640x640 2 helmets, Done. (0.011s)\n",
            "image 140/500 /content/Dataset/images/test/hard_hat_workers2208.png: 640x640 6 helmets, Done. (0.010s)\n",
            "image 141/500 /content/Dataset/images/test/hard_hat_workers2226.png: 640x640 4 helmets, Done. (0.010s)\n",
            "image 142/500 /content/Dataset/images/test/hard_hat_workers2233.png: 640x640 1 helmet, Done. (0.010s)\n",
            "image 143/500 /content/Dataset/images/test/hard_hat_workers2236.png: 640x640 6 helmets, Done. (0.010s)\n",
            "image 144/500 /content/Dataset/images/test/hard_hat_workers2258.png: 640x640 1 helmet, Done. (0.010s)\n",
            "image 145/500 /content/Dataset/images/test/hard_hat_workers2260.png: 640x640 5 helmets, Done. (0.011s)\n",
            "image 146/500 /content/Dataset/images/test/hard_hat_workers2263.png: 640x640 3 helmets, Done. (0.010s)\n",
            "image 147/500 /content/Dataset/images/test/hard_hat_workers2264.png: 640x640 6 helmets, 7 heads, Done. (0.010s)\n",
            "image 148/500 /content/Dataset/images/test/hard_hat_workers2265.png: 640x640 4 helmets, Done. (0.012s)\n",
            "image 149/500 /content/Dataset/images/test/hard_hat_workers2267.png: 640x640 7 helmets, 2 heads, Done. (0.010s)\n",
            "image 150/500 /content/Dataset/images/test/hard_hat_workers2274.png: 640x640 10 heads, Done. (0.010s)\n",
            "image 151/500 /content/Dataset/images/test/hard_hat_workers2291.png: 640x640 1 helmet, 1 head, Done. (0.010s)\n",
            "image 152/500 /content/Dataset/images/test/hard_hat_workers2294.png: 640x640 4 helmets, Done. (0.010s)\n",
            "image 153/500 /content/Dataset/images/test/hard_hat_workers2311.png: 640x640 1 helmet, Done. (0.010s)\n",
            "image 154/500 /content/Dataset/images/test/hard_hat_workers2322.png: 640x640 4 heads, Done. (0.012s)\n",
            "image 155/500 /content/Dataset/images/test/hard_hat_workers2326.png: 640x640 5 helmets, Done. (0.011s)\n",
            "image 156/500 /content/Dataset/images/test/hard_hat_workers2338.png: 640x640 14 heads, Done. (0.010s)\n",
            "image 157/500 /content/Dataset/images/test/hard_hat_workers2343.png: 640x640 3 helmets, Done. (0.010s)\n",
            "image 158/500 /content/Dataset/images/test/hard_hat_workers2346.png: 640x640 7 helmets, 1 head, Done. (0.010s)\n",
            "image 159/500 /content/Dataset/images/test/hard_hat_workers2347.png: 640x640 5 helmets, Done. (0.010s)\n",
            "image 160/500 /content/Dataset/images/test/hard_hat_workers2352.png: 640x640 6 helmets, Done. (0.010s)\n",
            "image 161/500 /content/Dataset/images/test/hard_hat_workers2353.png: 640x640 4 heads, Done. (0.010s)\n",
            "image 162/500 /content/Dataset/images/test/hard_hat_workers2375.png: 640x640 2 helmets, Done. (0.010s)\n",
            "image 163/500 /content/Dataset/images/test/hard_hat_workers2381.png: 640x640 4 helmets, Done. (0.011s)\n",
            "image 164/500 /content/Dataset/images/test/hard_hat_workers2401.png: 640x640 3 helmets, Done. (0.011s)\n",
            "image 165/500 /content/Dataset/images/test/hard_hat_workers2403.png: 640x640 16 helmets, Done. (0.010s)\n",
            "image 166/500 /content/Dataset/images/test/hard_hat_workers2406.png: 640x640 1 helmet, Done. (0.010s)\n",
            "image 167/500 /content/Dataset/images/test/hard_hat_workers2424.png: 640x640 4 helmets, 2 heads, Done. (0.012s)\n",
            "image 168/500 /content/Dataset/images/test/hard_hat_workers2438.png: 640x640 2 helmets, Done. (0.011s)\n",
            "image 169/500 /content/Dataset/images/test/hard_hat_workers2452.png: 640x640 4 helmets, Done. (0.010s)\n",
            "image 170/500 /content/Dataset/images/test/hard_hat_workers2462.png: 640x640 3 helmets, Done. (0.011s)\n",
            "image 171/500 /content/Dataset/images/test/hard_hat_workers248.png: 640x640 6 helmets, Done. (0.011s)\n",
            "image 172/500 /content/Dataset/images/test/hard_hat_workers2490.png: 640x640 9 heads, Done. (0.010s)\n",
            "image 173/500 /content/Dataset/images/test/hard_hat_workers2494.png: 640x640 3 helmets, Done. (0.012s)\n",
            "image 174/500 /content/Dataset/images/test/hard_hat_workers2511.png: 640x640 16 heads, Done. (0.011s)\n",
            "image 175/500 /content/Dataset/images/test/hard_hat_workers254.png: 640x640 7 helmets, Done. (0.011s)\n",
            "image 176/500 /content/Dataset/images/test/hard_hat_workers2545.png: 640x640 1 helmet, Done. (0.010s)\n",
            "image 177/500 /content/Dataset/images/test/hard_hat_workers2568.png: 640x640 5 helmets, Done. (0.012s)\n",
            "image 178/500 /content/Dataset/images/test/hard_hat_workers26.png: 640x640 6 helmets, Done. (0.011s)\n",
            "image 179/500 /content/Dataset/images/test/hard_hat_workers2601.png: 640x640 4 helmets, Done. (0.011s)\n",
            "image 180/500 /content/Dataset/images/test/hard_hat_workers2603.png: 640x640 2 helmets, Done. (0.010s)\n",
            "image 181/500 /content/Dataset/images/test/hard_hat_workers2621.png: 640x640 2 helmets, Done. (0.010s)\n",
            "image 182/500 /content/Dataset/images/test/hard_hat_workers2626.png: 640x640 5 helmets, Done. (0.010s)\n",
            "image 183/500 /content/Dataset/images/test/hard_hat_workers2642.png: 640x640 7 helmets, Done. (0.011s)\n",
            "image 184/500 /content/Dataset/images/test/hard_hat_workers2644.png: 640x640 8 helmets, Done. (0.010s)\n",
            "image 185/500 /content/Dataset/images/test/hard_hat_workers267.png: 640x640 8 heads, Done. (0.010s)\n",
            "image 186/500 /content/Dataset/images/test/hard_hat_workers27.png: 640x640 3 helmets, Done. (0.010s)\n",
            "image 187/500 /content/Dataset/images/test/hard_hat_workers2712.png: 640x640 6 helmets, Done. (0.010s)\n",
            "image 188/500 /content/Dataset/images/test/hard_hat_workers2721.png: 640x640 6 helmets, Done. (0.010s)\n",
            "image 189/500 /content/Dataset/images/test/hard_hat_workers274.png: 640x640 4 heads, Done. (0.011s)\n",
            "image 190/500 /content/Dataset/images/test/hard_hat_workers2742.png: 640x640 3 helmets, Done. (0.010s)\n",
            "image 191/500 /content/Dataset/images/test/hard_hat_workers2753.png: 640x640 11 helmets, Done. (0.010s)\n",
            "image 192/500 /content/Dataset/images/test/hard_hat_workers2756.png: 640x640 3 helmets, Done. (0.010s)\n",
            "image 193/500 /content/Dataset/images/test/hard_hat_workers2762.png: 640x640 5 helmets, Done. (0.010s)\n",
            "image 194/500 /content/Dataset/images/test/hard_hat_workers2763.png: 640x640 1 helmet, Done. (0.010s)\n",
            "image 195/500 /content/Dataset/images/test/hard_hat_workers2764.png: 640x640 2 helmets, Done. (0.010s)\n",
            "image 196/500 /content/Dataset/images/test/hard_hat_workers2768.png: 640x640 1 helmet, Done. (0.010s)\n",
            "image 197/500 /content/Dataset/images/test/hard_hat_workers2770.png: 640x640 3 helmets, Done. (0.010s)\n",
            "image 198/500 /content/Dataset/images/test/hard_hat_workers2792.png: 640x640 5 helmets, Done. (0.015s)\n",
            "image 199/500 /content/Dataset/images/test/hard_hat_workers2802.png: 640x640 4 helmets, Done. (0.011s)\n",
            "image 200/500 /content/Dataset/images/test/hard_hat_workers282.png: 640x640 1 helmet, Done. (0.010s)\n",
            "image 201/500 /content/Dataset/images/test/hard_hat_workers2837.png: 640x640 2 helmets, Done. (0.010s)\n",
            "image 202/500 /content/Dataset/images/test/hard_hat_workers2850.png: 640x640 1 helmet, Done. (0.010s)\n",
            "image 203/500 /content/Dataset/images/test/hard_hat_workers2870.png: 640x640 4 helmets, Done. (0.010s)\n",
            "image 204/500 /content/Dataset/images/test/hard_hat_workers2878.png: 640x640 2 helmets, 3 heads, Done. (0.011s)\n",
            "image 205/500 /content/Dataset/images/test/hard_hat_workers2884.png: 640x640 4 helmets, Done. (0.011s)\n",
            "image 206/500 /content/Dataset/images/test/hard_hat_workers2888.png: 640x640 9 heads, Done. (0.010s)\n",
            "image 207/500 /content/Dataset/images/test/hard_hat_workers2896.png: 640x640 5 helmets, Done. (0.011s)\n",
            "image 208/500 /content/Dataset/images/test/hard_hat_workers2901.png: 640x640 3 helmets, 1 head, Done. (0.010s)\n",
            "image 209/500 /content/Dataset/images/test/hard_hat_workers2910.png: 640x640 12 heads, Done. (0.010s)\n",
            "image 210/500 /content/Dataset/images/test/hard_hat_workers2931.png: 640x640 1 helmet, Done. (0.010s)\n",
            "image 211/500 /content/Dataset/images/test/hard_hat_workers2934.png: 640x640 2 helmets, Done. (0.011s)\n",
            "image 212/500 /content/Dataset/images/test/hard_hat_workers2966.png: 640x640 9 heads, Done. (0.011s)\n",
            "image 213/500 /content/Dataset/images/test/hard_hat_workers2967.png: 640x640 5 helmets, Done. (0.010s)\n",
            "image 214/500 /content/Dataset/images/test/hard_hat_workers2970.png: 640x640 1 helmet, Done. (0.010s)\n",
            "image 215/500 /content/Dataset/images/test/hard_hat_workers2978.png: 640x640 2 helmets, Done. (0.011s)\n",
            "image 216/500 /content/Dataset/images/test/hard_hat_workers2993.png: 640x640 3 helmets, Done. (0.011s)\n",
            "image 217/500 /content/Dataset/images/test/hard_hat_workers3.png: 640x640 3 helmets, Done. (0.011s)\n",
            "image 218/500 /content/Dataset/images/test/hard_hat_workers3033.png: 640x640 2 helmets, Done. (0.011s)\n",
            "image 219/500 /content/Dataset/images/test/hard_hat_workers3039.png: 640x640 7 helmets, 1 head, Done. (0.011s)\n",
            "image 220/500 /content/Dataset/images/test/hard_hat_workers3042.png: 640x640 2 helmets, 4 heads, Done. (0.010s)\n",
            "image 221/500 /content/Dataset/images/test/hard_hat_workers3054.png: 640x640 2 helmets, Done. (0.011s)\n",
            "image 222/500 /content/Dataset/images/test/hard_hat_workers3067.png: 640x640 5 helmets, Done. (0.011s)\n",
            "image 223/500 /content/Dataset/images/test/hard_hat_workers3069.png: 640x640 20 helmets, Done. (0.011s)\n",
            "image 224/500 /content/Dataset/images/test/hard_hat_workers3083.png: 640x640 3 helmets, Done. (0.010s)\n",
            "image 225/500 /content/Dataset/images/test/hard_hat_workers3084.png: 640x640 26 helmets, Done. (0.010s)\n",
            "image 226/500 /content/Dataset/images/test/hard_hat_workers3116.png: 640x640 8 helmets, Done. (0.010s)\n",
            "image 227/500 /content/Dataset/images/test/hard_hat_workers3118.png: 640x640 6 helmets, Done. (0.010s)\n",
            "image 228/500 /content/Dataset/images/test/hard_hat_workers3119.png: 640x640 1 helmet, Done. (0.011s)\n",
            "image 229/500 /content/Dataset/images/test/hard_hat_workers3138.png: 640x640 1 helmet, Done. (0.010s)\n",
            "image 230/500 /content/Dataset/images/test/hard_hat_workers3157.png: 640x640 6 heads, Done. (0.011s)\n",
            "image 231/500 /content/Dataset/images/test/hard_hat_workers3173.png: 640x640 4 helmets, Done. (0.011s)\n",
            "image 232/500 /content/Dataset/images/test/hard_hat_workers3177.png: 640x640 6 helmets, 1 head, Done. (0.010s)\n",
            "image 233/500 /content/Dataset/images/test/hard_hat_workers3183.png: 640x640 4 helmets, Done. (0.010s)\n",
            "image 234/500 /content/Dataset/images/test/hard_hat_workers3184.png: 640x640 4 helmets, Done. (0.010s)\n",
            "image 235/500 /content/Dataset/images/test/hard_hat_workers3189.png: 640x640 4 helmets, Done. (0.010s)\n",
            "image 236/500 /content/Dataset/images/test/hard_hat_workers3226.png: 640x640 1 helmet, 9 heads, Done. (0.012s)\n",
            "image 237/500 /content/Dataset/images/test/hard_hat_workers3238.png: 640x640 3 helmets, Done. (0.010s)\n",
            "image 238/500 /content/Dataset/images/test/hard_hat_workers3253.png: 640x640 4 helmets, Done. (0.010s)\n",
            "image 239/500 /content/Dataset/images/test/hard_hat_workers3255.png: 640x640 7 helmets, 6 heads, Done. (0.011s)\n",
            "image 240/500 /content/Dataset/images/test/hard_hat_workers3264.png: 640x640 2 helmets, Done. (0.010s)\n",
            "image 241/500 /content/Dataset/images/test/hard_hat_workers3265.png: 640x640 10 heads, Done. (0.010s)\n",
            "image 242/500 /content/Dataset/images/test/hard_hat_workers3271.png: 640x640 6 helmets, Done. (0.011s)\n",
            "image 243/500 /content/Dataset/images/test/hard_hat_workers3285.png: 640x640 6 helmets, 5 heads, Done. (0.010s)\n",
            "image 244/500 /content/Dataset/images/test/hard_hat_workers3286.png: 640x640 2 helmets, Done. (0.010s)\n",
            "image 245/500 /content/Dataset/images/test/hard_hat_workers329.png: 640x640 10 helmets, Done. (0.011s)\n",
            "image 246/500 /content/Dataset/images/test/hard_hat_workers3295.png: 640x640 4 helmets, Done. (0.011s)\n",
            "image 247/500 /content/Dataset/images/test/hard_hat_workers3304.png: 640x640 1 helmet, Done. (0.011s)\n",
            "image 248/500 /content/Dataset/images/test/hard_hat_workers3309.png: 640x640 13 helmets, Done. (0.010s)\n",
            "image 249/500 /content/Dataset/images/test/hard_hat_workers3311.png: 640x640 4 helmets, Done. (0.010s)\n",
            "image 250/500 /content/Dataset/images/test/hard_hat_workers3326.png: 640x640 4 helmets, Done. (0.010s)\n",
            "image 251/500 /content/Dataset/images/test/hard_hat_workers3331.png: 640x640 7 helmets, 2 heads, Done. (0.010s)\n",
            "image 252/500 /content/Dataset/images/test/hard_hat_workers3345.png: 640x640 2 helmets, Done. (0.011s)\n",
            "image 253/500 /content/Dataset/images/test/hard_hat_workers3351.png: 640x640 4 helmets, Done. (0.010s)\n",
            "image 254/500 /content/Dataset/images/test/hard_hat_workers3355.png: 640x640 5 helmets, Done. (0.011s)\n",
            "image 255/500 /content/Dataset/images/test/hard_hat_workers3356.png: 640x640 2 helmets, Done. (0.012s)\n",
            "image 256/500 /content/Dataset/images/test/hard_hat_workers3357.png: 640x640 5 helmets, Done. (0.011s)\n",
            "image 257/500 /content/Dataset/images/test/hard_hat_workers336.png: 640x640 4 helmets, Done. (0.013s)\n",
            "image 258/500 /content/Dataset/images/test/hard_hat_workers3372.png: 640x640 3 helmets, Done. (0.010s)\n",
            "image 259/500 /content/Dataset/images/test/hard_hat_workers3381.png: 640x640 2 helmets, Done. (0.011s)\n",
            "image 260/500 /content/Dataset/images/test/hard_hat_workers3385.png: 640x640 2 helmets, 1 head, Done. (0.010s)\n",
            "image 261/500 /content/Dataset/images/test/hard_hat_workers340.png: 640x640 2 helmets, Done. (0.010s)\n",
            "image 262/500 /content/Dataset/images/test/hard_hat_workers3406.png: 640x640 3 helmets, Done. (0.010s)\n",
            "image 263/500 /content/Dataset/images/test/hard_hat_workers3428.png: 640x640 2 helmets, Done. (0.012s)\n",
            "image 264/500 /content/Dataset/images/test/hard_hat_workers346.png: 640x640 16 helmets, 2 heads, Done. (0.011s)\n",
            "image 265/500 /content/Dataset/images/test/hard_hat_workers3500.png: 640x640 2 helmets, Done. (0.011s)\n",
            "image 266/500 /content/Dataset/images/test/hard_hat_workers3513.png: 640x640 11 heads, Done. (0.010s)\n",
            "image 267/500 /content/Dataset/images/test/hard_hat_workers3514.png: 640x640 4 helmets, Done. (0.010s)\n",
            "image 268/500 /content/Dataset/images/test/hard_hat_workers3520.png: 640x640 1 helmet, Done. (0.011s)\n",
            "image 269/500 /content/Dataset/images/test/hard_hat_workers3529.png: 640x640 10 helmets, Done. (0.012s)\n",
            "image 270/500 /content/Dataset/images/test/hard_hat_workers3539.png: 640x640 5 helmets, Done. (0.010s)\n",
            "image 271/500 /content/Dataset/images/test/hard_hat_workers3545.png: 640x640 8 helmets, Done. (0.012s)\n",
            "image 272/500 /content/Dataset/images/test/hard_hat_workers3548.png: 640x640 6 helmets, Done. (0.010s)\n",
            "image 273/500 /content/Dataset/images/test/hard_hat_workers355.png: 640x640 5 helmets, Done. (0.012s)\n",
            "image 274/500 /content/Dataset/images/test/hard_hat_workers3550.png: 640x640 2 helmets, Done. (0.010s)\n",
            "image 275/500 /content/Dataset/images/test/hard_hat_workers3552.png: 640x640 1 helmet, Done. (0.010s)\n",
            "image 276/500 /content/Dataset/images/test/hard_hat_workers3560.png: 640x640 3 helmets, Done. (0.010s)\n",
            "image 277/500 /content/Dataset/images/test/hard_hat_workers3573.png: 640x640 2 helmets, Done. (0.010s)\n",
            "image 278/500 /content/Dataset/images/test/hard_hat_workers3589.png: 640x640 2 helmets, Done. (0.010s)\n",
            "image 279/500 /content/Dataset/images/test/hard_hat_workers361.png: 640x640 3 helmets, Done. (0.010s)\n",
            "image 280/500 /content/Dataset/images/test/hard_hat_workers3617.png: 640x640 2 helmets, 1 head, Done. (0.010s)\n",
            "image 281/500 /content/Dataset/images/test/hard_hat_workers362.png: 640x640 3 helmets, Done. (0.011s)\n",
            "image 282/500 /content/Dataset/images/test/hard_hat_workers3620.png: 640x640 10 helmets, Done. (0.010s)\n",
            "image 283/500 /content/Dataset/images/test/hard_hat_workers3633.png: 640x640 4 helmets, Done. (0.010s)\n",
            "image 284/500 /content/Dataset/images/test/hard_hat_workers3637.png: 640x640 8 helmets, 3 heads, Done. (0.010s)\n",
            "image 285/500 /content/Dataset/images/test/hard_hat_workers3640.png: 640x640 2 helmets, Done. (0.011s)\n",
            "image 286/500 /content/Dataset/images/test/hard_hat_workers3666.png: 640x640 6 helmets, Done. (0.010s)\n",
            "image 287/500 /content/Dataset/images/test/hard_hat_workers3680.png: 640x640 8 helmets, Done. (0.013s)\n",
            "image 288/500 /content/Dataset/images/test/hard_hat_workers3681.png: 640x640 2 helmets, Done. (0.010s)\n",
            "image 289/500 /content/Dataset/images/test/hard_hat_workers3682.png: 640x640 3 helmets, Done. (0.010s)\n",
            "image 290/500 /content/Dataset/images/test/hard_hat_workers3688.png: 640x640 3 helmets, 2 heads, Done. (0.011s)\n",
            "image 291/500 /content/Dataset/images/test/hard_hat_workers3702.png: 640x640 2 helmets, Done. (0.010s)\n",
            "image 292/500 /content/Dataset/images/test/hard_hat_workers3711.png: 640x640 9 heads, Done. (0.010s)\n",
            "image 293/500 /content/Dataset/images/test/hard_hat_workers3715.png: 640x640 6 helmets, Done. (0.012s)\n",
            "image 294/500 /content/Dataset/images/test/hard_hat_workers3722.png: 640x640 3 heads, Done. (0.011s)\n",
            "image 295/500 /content/Dataset/images/test/hard_hat_workers3731.png: 640x640 5 helmets, Done. (0.010s)\n",
            "image 296/500 /content/Dataset/images/test/hard_hat_workers3742.png: 640x640 2 helmets, Done. (0.010s)\n",
            "image 297/500 /content/Dataset/images/test/hard_hat_workers3749.png: 640x640 1 helmet, Done. (0.011s)\n",
            "image 298/500 /content/Dataset/images/test/hard_hat_workers3773.png: 640x640 14 heads, Done. (0.010s)\n",
            "image 299/500 /content/Dataset/images/test/hard_hat_workers3779.png: 640x640 4 helmets, Done. (0.011s)\n",
            "image 300/500 /content/Dataset/images/test/hard_hat_workers378.png: 640x640 4 helmets, Done. (0.010s)\n",
            "image 301/500 /content/Dataset/images/test/hard_hat_workers3784.png: 640x640 2 helmets, Done. (0.010s)\n",
            "image 302/500 /content/Dataset/images/test/hard_hat_workers3785.png: 640x640 2 helmets, Done. (0.010s)\n",
            "image 303/500 /content/Dataset/images/test/hard_hat_workers3791.png: 640x640 5 helmets, Done. (0.010s)\n",
            "image 304/500 /content/Dataset/images/test/hard_hat_workers3802.png: 640x640 3 helmets, Done. (0.010s)\n",
            "image 305/500 /content/Dataset/images/test/hard_hat_workers3805.png: 640x640 12 helmets, Done. (0.010s)\n",
            "image 306/500 /content/Dataset/images/test/hard_hat_workers3813.png: 640x640 6 helmets, 7 heads, Done. (0.010s)\n",
            "image 307/500 /content/Dataset/images/test/hard_hat_workers3815.png: 640x640 2 helmets, Done. (0.010s)\n",
            "image 308/500 /content/Dataset/images/test/hard_hat_workers3853.png: 640x640 8 helmets, Done. (0.013s)\n",
            "image 309/500 /content/Dataset/images/test/hard_hat_workers3871.png: 640x640 8 heads, Done. (0.010s)\n",
            "image 310/500 /content/Dataset/images/test/hard_hat_workers3873.png: 640x640 9 helmets, Done. (0.010s)\n",
            "image 311/500 /content/Dataset/images/test/hard_hat_workers388.png: 640x640 5 helmets, Done. (0.011s)\n",
            "image 312/500 /content/Dataset/images/test/hard_hat_workers3880.png: 640x640 3 helmets, Done. (0.010s)\n",
            "image 313/500 /content/Dataset/images/test/hard_hat_workers3886.png: 640x640 4 helmets, 7 heads, Done. (0.010s)\n",
            "image 314/500 /content/Dataset/images/test/hard_hat_workers3910.png: 640x640 9 helmets, Done. (0.011s)\n",
            "image 315/500 /content/Dataset/images/test/hard_hat_workers392.png: 640x640 2 helmets, Done. (0.010s)\n",
            "image 316/500 /content/Dataset/images/test/hard_hat_workers3926.png: 640x640 5 helmets, Done. (0.010s)\n",
            "image 317/500 /content/Dataset/images/test/hard_hat_workers3935.png: 640x640 3 helmets, Done. (0.010s)\n",
            "image 318/500 /content/Dataset/images/test/hard_hat_workers3938.png: 640x640 11 helmets, Done. (0.011s)\n",
            "image 319/500 /content/Dataset/images/test/hard_hat_workers3950.png: 640x640 1 helmet, Done. (0.011s)\n",
            "image 320/500 /content/Dataset/images/test/hard_hat_workers3952.png: 640x640 5 helmets, Done. (0.010s)\n",
            "image 321/500 /content/Dataset/images/test/hard_hat_workers3959.png: 640x640 20 heads, Done. (0.011s)\n",
            "image 322/500 /content/Dataset/images/test/hard_hat_workers3960.png: 640x640 2 helmets, Done. (0.010s)\n",
            "image 323/500 /content/Dataset/images/test/hard_hat_workers397.png: 640x640 2 helmets, Done. (0.010s)\n",
            "image 324/500 /content/Dataset/images/test/hard_hat_workers3972.png: 640x640 4 helmets, Done. (0.016s)\n",
            "image 325/500 /content/Dataset/images/test/hard_hat_workers3995.png: 640x640 9 helmets, Done. (0.011s)\n",
            "image 326/500 /content/Dataset/images/test/hard_hat_workers4007.png: 640x640 5 helmets, Done. (0.011s)\n",
            "image 327/500 /content/Dataset/images/test/hard_hat_workers4024.png: 640x640 12 helmets, Done. (0.010s)\n",
            "image 328/500 /content/Dataset/images/test/hard_hat_workers4039.png: 640x640 1 helmet, Done. (0.011s)\n",
            "image 329/500 /content/Dataset/images/test/hard_hat_workers4054.png: 640x640 2 helmets, Done. (0.012s)\n",
            "image 330/500 /content/Dataset/images/test/hard_hat_workers4062.png: 640x640 4 helmets, Done. (0.010s)\n",
            "image 331/500 /content/Dataset/images/test/hard_hat_workers4074.png: 640x640 1 helmet, Done. (0.010s)\n",
            "image 332/500 /content/Dataset/images/test/hard_hat_workers4080.png: 640x640 3 helmets, Done. (0.010s)\n",
            "image 333/500 /content/Dataset/images/test/hard_hat_workers409.png: 640x640 2 helmets, Done. (0.010s)\n",
            "image 334/500 /content/Dataset/images/test/hard_hat_workers4094.png: 640x640 10 heads, Done. (0.010s)\n",
            "image 335/500 /content/Dataset/images/test/hard_hat_workers4117.png: 640x640 3 helmets, Done. (0.010s)\n",
            "image 336/500 /content/Dataset/images/test/hard_hat_workers4119.png: 640x640 3 helmets, Done. (0.010s)\n",
            "image 337/500 /content/Dataset/images/test/hard_hat_workers4121.png: 640x640 3 helmets, Done. (0.011s)\n",
            "image 338/500 /content/Dataset/images/test/hard_hat_workers4135.png: 640x640 1 helmet, Done. (0.010s)\n",
            "image 339/500 /content/Dataset/images/test/hard_hat_workers4153.png: 640x640 8 helmets, Done. (0.010s)\n",
            "image 340/500 /content/Dataset/images/test/hard_hat_workers4159.png: 640x640 2 helmets, Done. (0.010s)\n",
            "image 341/500 /content/Dataset/images/test/hard_hat_workers4163.png: 640x640 7 helmets, 1 head, Done. (0.012s)\n",
            "image 342/500 /content/Dataset/images/test/hard_hat_workers4164.png: 640x640 2 helmets, Done. (0.010s)\n",
            "image 343/500 /content/Dataset/images/test/hard_hat_workers4202.png: 640x640 8 helmets, 8 heads, Done. (0.012s)\n",
            "image 344/500 /content/Dataset/images/test/hard_hat_workers4203.png: 640x640 2 helmets, Done. (0.010s)\n",
            "image 345/500 /content/Dataset/images/test/hard_hat_workers422.png: 640x640 7 helmets, Done. (0.010s)\n",
            "image 346/500 /content/Dataset/images/test/hard_hat_workers4256.png: 640x640 2 helmets, Done. (0.010s)\n",
            "image 347/500 /content/Dataset/images/test/hard_hat_workers4264.png: 640x640 3 helmets, Done. (0.010s)\n",
            "image 348/500 /content/Dataset/images/test/hard_hat_workers4266.png: 640x640 3 helmets, Done. (0.010s)\n",
            "image 349/500 /content/Dataset/images/test/hard_hat_workers4270.png: 640x640 2 heads, Done. (0.010s)\n",
            "image 350/500 /content/Dataset/images/test/hard_hat_workers4275.png: 640x640 1 helmet, Done. (0.010s)\n",
            "image 351/500 /content/Dataset/images/test/hard_hat_workers4277.png: 640x640 5 helmets, Done. (0.010s)\n",
            "image 352/500 /content/Dataset/images/test/hard_hat_workers4283.png: 640x640 8 helmets, Done. (0.010s)\n",
            "image 353/500 /content/Dataset/images/test/hard_hat_workers4291.png: 640x640 2 helmets, Done. (0.010s)\n",
            "image 354/500 /content/Dataset/images/test/hard_hat_workers4293.png: 640x640 2 helmets, Done. (0.013s)\n",
            "image 355/500 /content/Dataset/images/test/hard_hat_workers4297.png: 640x640 7 helmets, Done. (0.011s)\n",
            "image 356/500 /content/Dataset/images/test/hard_hat_workers4302.png: 640x640 Done. (0.010s)\n",
            "image 357/500 /content/Dataset/images/test/hard_hat_workers4307.png: 640x640 3 helmets, Done. (0.011s)\n",
            "image 358/500 /content/Dataset/images/test/hard_hat_workers4316.png: 640x640 2 helmets, Done. (0.010s)\n",
            "image 359/500 /content/Dataset/images/test/hard_hat_workers433.png: 640x640 4 helmets, Done. (0.010s)\n",
            "image 360/500 /content/Dataset/images/test/hard_hat_workers4346.png: 640x640 1 helmet, Done. (0.011s)\n",
            "image 361/500 /content/Dataset/images/test/hard_hat_workers4370.png: 640x640 2 helmets, Done. (0.011s)\n",
            "image 362/500 /content/Dataset/images/test/hard_hat_workers4374.png: 640x640 4 helmets, 1 head, Done. (0.010s)\n",
            "image 363/500 /content/Dataset/images/test/hard_hat_workers4375.png: 640x640 6 helmets, Done. (0.010s)\n",
            "image 364/500 /content/Dataset/images/test/hard_hat_workers4389.png: 640x640 3 helmets, Done. (0.010s)\n",
            "image 365/500 /content/Dataset/images/test/hard_hat_workers4395.png: 640x640 9 helmets, Done. (0.010s)\n",
            "image 366/500 /content/Dataset/images/test/hard_hat_workers4402.png: 640x640 2 helmets, Done. (0.010s)\n",
            "image 367/500 /content/Dataset/images/test/hard_hat_workers4412.png: 640x640 10 helmets, Done. (0.011s)\n",
            "image 368/500 /content/Dataset/images/test/hard_hat_workers4413.png: 640x640 3 helmets, Done. (0.011s)\n",
            "image 369/500 /content/Dataset/images/test/hard_hat_workers4426.png: 640x640 11 heads, Done. (0.010s)\n",
            "image 370/500 /content/Dataset/images/test/hard_hat_workers4439.png: 640x640 3 helmets, Done. (0.011s)\n",
            "image 371/500 /content/Dataset/images/test/hard_hat_workers4441.png: 640x640 5 helmets, Done. (0.011s)\n",
            "image 372/500 /content/Dataset/images/test/hard_hat_workers4447.png: 640x640 2 helmets, Done. (0.010s)\n",
            "image 373/500 /content/Dataset/images/test/hard_hat_workers4454.png: 640x640 11 heads, Done. (0.010s)\n",
            "image 374/500 /content/Dataset/images/test/hard_hat_workers4463.png: 640x640 1 helmet, Done. (0.010s)\n",
            "image 375/500 /content/Dataset/images/test/hard_hat_workers4471.png: 640x640 3 helmets, Done. (0.010s)\n",
            "image 376/500 /content/Dataset/images/test/hard_hat_workers450.png: 640x640 6 helmets, Done. (0.010s)\n",
            "image 377/500 /content/Dataset/images/test/hard_hat_workers4500.png: 640x640 12 heads, Done. (0.012s)\n",
            "image 378/500 /content/Dataset/images/test/hard_hat_workers4508.png: 640x640 1 helmet, Done. (0.010s)\n",
            "image 379/500 /content/Dataset/images/test/hard_hat_workers4509.png: 640x640 2 helmets, Done. (0.013s)\n",
            "image 380/500 /content/Dataset/images/test/hard_hat_workers4510.png: 640x640 11 helmets, Done. (0.010s)\n",
            "image 381/500 /content/Dataset/images/test/hard_hat_workers4511.png: 640x640 5 helmets, Done. (0.010s)\n",
            "image 382/500 /content/Dataset/images/test/hard_hat_workers4519.png: 640x640 2 helmets, Done. (0.010s)\n",
            "image 383/500 /content/Dataset/images/test/hard_hat_workers4540.png: 640x640 3 helmets, Done. (0.011s)\n",
            "image 384/500 /content/Dataset/images/test/hard_hat_workers4544.png: 640x640 2 helmets, Done. (0.011s)\n",
            "image 385/500 /content/Dataset/images/test/hard_hat_workers4546.png: 640x640 4 helmets, Done. (0.010s)\n",
            "image 386/500 /content/Dataset/images/test/hard_hat_workers4566.png: 640x640 4 helmets, Done. (0.010s)\n",
            "image 387/500 /content/Dataset/images/test/hard_hat_workers4567.png: 640x640 2 helmets, Done. (0.011s)\n",
            "image 388/500 /content/Dataset/images/test/hard_hat_workers4568.png: 640x640 2 helmets, Done. (0.010s)\n",
            "image 389/500 /content/Dataset/images/test/hard_hat_workers4580.png: 640x640 9 helmets, Done. (0.011s)\n",
            "image 390/500 /content/Dataset/images/test/hard_hat_workers4583.png: 640x640 2 helmets, Done. (0.012s)\n",
            "image 391/500 /content/Dataset/images/test/hard_hat_workers461.png: 640x640 4 helmets, Done. (0.010s)\n",
            "image 392/500 /content/Dataset/images/test/hard_hat_workers4618.png: 640x640 4 helmets, Done. (0.012s)\n",
            "image 393/500 /content/Dataset/images/test/hard_hat_workers4625.png: 640x640 1 helmet, 9 heads, Done. (0.011s)\n",
            "image 394/500 /content/Dataset/images/test/hard_hat_workers4630.png: 640x640 4 helmets, Done. (0.010s)\n",
            "image 395/500 /content/Dataset/images/test/hard_hat_workers4640.png: 640x640 2 helmets, Done. (0.010s)\n",
            "image 396/500 /content/Dataset/images/test/hard_hat_workers4651.png: 640x640 13 heads, Done. (0.010s)\n",
            "image 397/500 /content/Dataset/images/test/hard_hat_workers4660.png: 640x640 6 helmets, Done. (0.011s)\n",
            "image 398/500 /content/Dataset/images/test/hard_hat_workers4662.png: 640x640 5 helmets, 4 heads, Done. (0.012s)\n",
            "image 399/500 /content/Dataset/images/test/hard_hat_workers4674.png: 640x640 4 helmets, Done. (0.010s)\n",
            "image 400/500 /content/Dataset/images/test/hard_hat_workers4678.png: 640x640 13 heads, Done. (0.010s)\n",
            "image 401/500 /content/Dataset/images/test/hard_hat_workers4684.png: 640x640 5 helmets, Done. (0.010s)\n",
            "image 402/500 /content/Dataset/images/test/hard_hat_workers4693.png: 640x640 2 helmets, Done. (0.011s)\n",
            "image 403/500 /content/Dataset/images/test/hard_hat_workers4707.png: 640x640 7 helmets, Done. (0.010s)\n",
            "image 404/500 /content/Dataset/images/test/hard_hat_workers4720.png: 640x640 1 helmet, Done. (0.011s)\n",
            "image 405/500 /content/Dataset/images/test/hard_hat_workers4733.png: 640x640 7 helmets, 4 heads, Done. (0.011s)\n",
            "image 406/500 /content/Dataset/images/test/hard_hat_workers4735.png: 640x640 4 helmets, Done. (0.010s)\n",
            "image 407/500 /content/Dataset/images/test/hard_hat_workers4761.png: 640x640 2 helmets, Done. (0.011s)\n",
            "image 408/500 /content/Dataset/images/test/hard_hat_workers4776.png: 640x640 5 helmets, Done. (0.011s)\n",
            "image 409/500 /content/Dataset/images/test/hard_hat_workers48.png: 640x640 9 helmets, Done. (0.010s)\n",
            "image 410/500 /content/Dataset/images/test/hard_hat_workers4809.png: 640x640 11 helmets, Done. (0.010s)\n",
            "image 411/500 /content/Dataset/images/test/hard_hat_workers4811.png: 640x640 15 helmets, Done. (0.010s)\n",
            "image 412/500 /content/Dataset/images/test/hard_hat_workers4814.png: 640x640 3 helmets, Done. (0.010s)\n",
            "image 413/500 /content/Dataset/images/test/hard_hat_workers4815.png: 640x640 3 helmets, Done. (0.010s)\n",
            "image 414/500 /content/Dataset/images/test/hard_hat_workers4817.png: 640x640 7 helmets, Done. (0.011s)\n",
            "image 415/500 /content/Dataset/images/test/hard_hat_workers4829.png: 640x640 8 helmets, Done. (0.010s)\n",
            "image 416/500 /content/Dataset/images/test/hard_hat_workers4833.png: 640x640 2 helmets, Done. (0.011s)\n",
            "image 417/500 /content/Dataset/images/test/hard_hat_workers484.png: 640x640 3 helmets, Done. (0.010s)\n",
            "image 418/500 /content/Dataset/images/test/hard_hat_workers4844.png: 640x640 3 helmets, Done. (0.011s)\n",
            "image 419/500 /content/Dataset/images/test/hard_hat_workers4845.png: 640x640 1 helmet, Done. (0.010s)\n",
            "image 420/500 /content/Dataset/images/test/hard_hat_workers490.png: 640x640 6 helmets, 30 heads, Done. (0.010s)\n",
            "image 421/500 /content/Dataset/images/test/hard_hat_workers4917.png: 640x640 3 helmets, Done. (0.011s)\n",
            "image 422/500 /content/Dataset/images/test/hard_hat_workers4940.png: 640x640 1 helmet, 1 head, Done. (0.011s)\n",
            "image 423/500 /content/Dataset/images/test/hard_hat_workers4942.png: 640x640 16 helmets, Done. (0.011s)\n",
            "image 424/500 /content/Dataset/images/test/hard_hat_workers4945.png: 640x640 1 helmet, Done. (0.011s)\n",
            "image 425/500 /content/Dataset/images/test/hard_hat_workers4959.png: 640x640 16 helmets, Done. (0.010s)\n",
            "image 426/500 /content/Dataset/images/test/hard_hat_workers496.png: 640x640 9 helmets, Done. (0.010s)\n",
            "image 427/500 /content/Dataset/images/test/hard_hat_workers4961.png: 640x640 7 heads, Done. (0.012s)\n",
            "image 428/500 /content/Dataset/images/test/hard_hat_workers4962.png: 640x640 6 helmets, Done. (0.012s)\n",
            "image 429/500 /content/Dataset/images/test/hard_hat_workers4975.png: 640x640 1 helmet, Done. (0.010s)\n",
            "image 430/500 /content/Dataset/images/test/hard_hat_workers4980.png: 640x640 6 helmets, Done. (0.011s)\n",
            "image 431/500 /content/Dataset/images/test/hard_hat_workers4989.png: 640x640 1 helmet, Done. (0.010s)\n",
            "image 432/500 /content/Dataset/images/test/hard_hat_workers4997.png: 640x640 5 helmets, Done. (0.011s)\n",
            "image 433/500 /content/Dataset/images/test/hard_hat_workers510.png: 640x640 7 heads, Done. (0.012s)\n",
            "image 434/500 /content/Dataset/images/test/hard_hat_workers518.png: 640x640 3 helmets, Done. (0.011s)\n",
            "image 435/500 /content/Dataset/images/test/hard_hat_workers530.png: 640x640 8 helmets, Done. (0.010s)\n",
            "image 436/500 /content/Dataset/images/test/hard_hat_workers534.png: 640x640 3 helmets, Done. (0.011s)\n",
            "image 437/500 /content/Dataset/images/test/hard_hat_workers543.png: 640x640 1 helmet, Done. (0.010s)\n",
            "image 438/500 /content/Dataset/images/test/hard_hat_workers546.png: 640x640 1 helmet, Done. (0.014s)\n",
            "image 439/500 /content/Dataset/images/test/hard_hat_workers551.png: 640x640 1 helmet, Done. (0.013s)\n",
            "image 440/500 /content/Dataset/images/test/hard_hat_workers566.png: 640x640 2 helmets, Done. (0.011s)\n",
            "image 441/500 /content/Dataset/images/test/hard_hat_workers573.png: 640x640 1 helmet, Done. (0.010s)\n",
            "image 442/500 /content/Dataset/images/test/hard_hat_workers577.png: 640x640 2 helmets, Done. (0.011s)\n",
            "image 443/500 /content/Dataset/images/test/hard_hat_workers600.png: 640x640 1 helmet, 1 head, Done. (0.010s)\n",
            "image 444/500 /content/Dataset/images/test/hard_hat_workers601.png: 640x640 4 helmets, Done. (0.011s)\n",
            "image 445/500 /content/Dataset/images/test/hard_hat_workers618.png: 640x640 4 helmets, Done. (0.012s)\n",
            "image 446/500 /content/Dataset/images/test/hard_hat_workers621.png: 640x640 4 helmets, Done. (0.011s)\n",
            "image 447/500 /content/Dataset/images/test/hard_hat_workers628.png: 640x640 4 helmets, Done. (0.010s)\n",
            "image 448/500 /content/Dataset/images/test/hard_hat_workers629.png: 640x640 3 helmets, Done. (0.011s)\n",
            "image 449/500 /content/Dataset/images/test/hard_hat_workers632.png: 640x640 6 helmets, Done. (0.011s)\n",
            "image 450/500 /content/Dataset/images/test/hard_hat_workers635.png: 640x640 4 helmets, Done. (0.011s)\n",
            "image 451/500 /content/Dataset/images/test/hard_hat_workers666.png: 640x640 1 helmet, 6 heads, Done. (0.012s)\n",
            "image 452/500 /content/Dataset/images/test/hard_hat_workers673.png: 640x640 4 helmets, Done. (0.011s)\n",
            "image 453/500 /content/Dataset/images/test/hard_hat_workers675.png: 640x640 3 helmets, Done. (0.012s)\n",
            "image 454/500 /content/Dataset/images/test/hard_hat_workers680.png: 640x640 3 helmets, Done. (0.010s)\n",
            "image 455/500 /content/Dataset/images/test/hard_hat_workers681.png: 640x640 5 helmets, Done. (0.011s)\n",
            "image 456/500 /content/Dataset/images/test/hard_hat_workers686.png: 640x640 6 helmets, Done. (0.010s)\n",
            "image 457/500 /content/Dataset/images/test/hard_hat_workers687.png: 640x640 1 helmet, Done. (0.010s)\n",
            "image 458/500 /content/Dataset/images/test/hard_hat_workers69.png: 640x640 12 heads, Done. (0.010s)\n",
            "image 459/500 /content/Dataset/images/test/hard_hat_workers695.png: 640x640 1 helmet, Done. (0.010s)\n",
            "image 460/500 /content/Dataset/images/test/hard_hat_workers705.png: 640x640 9 helmets, Done. (0.012s)\n",
            "image 461/500 /content/Dataset/images/test/hard_hat_workers711.png: 640x640 2 helmets, Done. (0.011s)\n",
            "image 462/500 /content/Dataset/images/test/hard_hat_workers719.png: 640x640 5 helmets, Done. (0.011s)\n",
            "image 463/500 /content/Dataset/images/test/hard_hat_workers721.png: 640x640 9 helmets, Done. (0.012s)\n",
            "image 464/500 /content/Dataset/images/test/hard_hat_workers728.png: 640x640 3 helmets, Done. (0.010s)\n",
            "image 465/500 /content/Dataset/images/test/hard_hat_workers733.png: 640x640 1 helmet, Done. (0.011s)\n",
            "image 466/500 /content/Dataset/images/test/hard_hat_workers738.png: 640x640 3 helmets, Done. (0.012s)\n",
            "image 467/500 /content/Dataset/images/test/hard_hat_workers749.png: 640x640 2 helmets, Done. (0.010s)\n",
            "image 468/500 /content/Dataset/images/test/hard_hat_workers75.png: 640x640 4 helmets, 1 head, Done. (0.010s)\n",
            "image 469/500 /content/Dataset/images/test/hard_hat_workers759.png: 640x640 4 helmets, Done. (0.011s)\n",
            "image 470/500 /content/Dataset/images/test/hard_hat_workers763.png: 640x640 2 helmets, Done. (0.011s)\n",
            "image 471/500 /content/Dataset/images/test/hard_hat_workers767.png: 640x640 1 helmet, Done. (0.010s)\n",
            "image 472/500 /content/Dataset/images/test/hard_hat_workers770.png: 640x640 3 helmets, Done. (0.013s)\n",
            "image 473/500 /content/Dataset/images/test/hard_hat_workers773.png: 640x640 1 helmet, Done. (0.012s)\n",
            "image 474/500 /content/Dataset/images/test/hard_hat_workers774.png: 640x640 5 helmets, Done. (0.010s)\n",
            "image 475/500 /content/Dataset/images/test/hard_hat_workers784.png: 640x640 2 helmets, Done. (0.011s)\n",
            "image 476/500 /content/Dataset/images/test/hard_hat_workers786.png: 640x640 6 helmets, Done. (0.010s)\n",
            "image 477/500 /content/Dataset/images/test/hard_hat_workers788.png: 640x640 7 helmets, Done. (0.010s)\n",
            "image 478/500 /content/Dataset/images/test/hard_hat_workers80.png: 640x640 1 helmet, Done. (0.010s)\n",
            "image 479/500 /content/Dataset/images/test/hard_hat_workers803.png: 640x640 4 helmets, Done. (0.010s)\n",
            "image 480/500 /content/Dataset/images/test/hard_hat_workers819.png: 640x640 8 helmets, Done. (0.010s)\n",
            "image 481/500 /content/Dataset/images/test/hard_hat_workers822.png: 640x640 7 helmets, 2 heads, Done. (0.011s)\n",
            "image 482/500 /content/Dataset/images/test/hard_hat_workers829.png: 640x640 4 helmets, Done. (0.010s)\n",
            "image 483/500 /content/Dataset/images/test/hard_hat_workers834.png: 640x640 6 helmets, Done. (0.010s)\n",
            "image 484/500 /content/Dataset/images/test/hard_hat_workers836.png: 640x640 6 helmets, Done. (0.011s)\n",
            "image 485/500 /content/Dataset/images/test/hard_hat_workers842.png: 640x640 3 helmets, Done. (0.011s)\n",
            "image 486/500 /content/Dataset/images/test/hard_hat_workers846.png: 640x640 2 helmets, 1 head, Done. (0.010s)\n",
            "image 487/500 /content/Dataset/images/test/hard_hat_workers85.png: 640x640 8 helmets, Done. (0.012s)\n",
            "image 488/500 /content/Dataset/images/test/hard_hat_workers857.png: 640x640 36 helmets, 7 heads, Done. (0.010s)\n",
            "image 489/500 /content/Dataset/images/test/hard_hat_workers86.png: 640x640 5 helmets, Done. (0.010s)\n",
            "image 490/500 /content/Dataset/images/test/hard_hat_workers876.png: 640x640 3 helmets, Done. (0.010s)\n",
            "image 491/500 /content/Dataset/images/test/hard_hat_workers912.png: 640x640 4 helmets, Done. (0.010s)\n",
            "image 492/500 /content/Dataset/images/test/hard_hat_workers918.png: 640x640 4 helmets, Done. (0.010s)\n",
            "image 493/500 /content/Dataset/images/test/hard_hat_workers929.png: 640x640 10 helmets, Done. (0.010s)\n",
            "image 494/500 /content/Dataset/images/test/hard_hat_workers947.png: 640x640 2 helmets, Done. (0.010s)\n",
            "image 495/500 /content/Dataset/images/test/hard_hat_workers949.png: 640x640 9 helmets, Done. (0.010s)\n",
            "image 496/500 /content/Dataset/images/test/hard_hat_workers952.png: 640x640 1 helmet, Done. (0.010s)\n",
            "image 497/500 /content/Dataset/images/test/hard_hat_workers960.png: 640x640 6 helmets, Done. (0.011s)\n",
            "image 498/500 /content/Dataset/images/test/hard_hat_workers982.png: 640x640 7 helmets, Done. (0.010s)\n",
            "image 499/500 /content/Dataset/images/test/hard_hat_workers994.png: 640x640 4 helmets, Done. (0.010s)\n",
            "image 500/500 /content/Dataset/images/test/hard_hat_workers998.png: 640x640 8 heads, Done. (0.010s)\n",
            "Speed: 0.4ms pre-process, 10.6ms inference, 1.2ms NMS per image at shape (1, 3, 640, 640)\n",
            "Results saved to \u001b[1mhard-hat-detection/yolov5s-model_100epochs2\u001b[0m\n"
          ]
        }
      ]
    },
    {
      "cell_type": "code",
      "source": [
        "from glob import glob\n",
        "import matplotlib.pyplot as plt\n",
        "import random\n",
        "\n",
        "testfiles = glob(f'{proj_name}/{run_name}/*')\n",
        "\n",
        "image_number = random.randint(0, len(testfiles))\n",
        "\n",
        "img = plt.imread(testfiles[image_number])\n",
        "plt.imshow(img)    \n",
        "plt.show\n",
        "\n",
        "print(f\"Number: {image_number}\")"
      ],
      "metadata": {
        "id": "8aKsuaGRAjHC",
        "colab": {
          "base_uri": "https://localhost:8080/",
          "height": 286
        },
        "outputId": "f7184843-c085-48e1-e19b-7946e3ac0739"
      },
      "execution_count": null,
      "outputs": [
        {
          "output_type": "stream",
          "name": "stdout",
          "text": [
            "Number: 182\n"
          ]
        },
        {
          "output_type": "display_data",
          "data": {
            "text/plain": [
              "<Figure size 432x288 with 1 Axes>"
            ],
            "image/png": "[encoded data removed]"
          },
          "metadata": {
            "needs_background": "light"
          }
        }
      ]
    },
    {
      "cell_type": "markdown",
      "source": [
        "# Evaluation"
      ],
      "metadata": {
        "id": "BobgFpo_TfQH"
      }
    },
    {
      "cell_type": "code",
      "source": [
        "%cd /content\n",
        "\n",
        "proj_name = \"hard-hat-detection\"\n",
        "run_name = f\"{model_name}-model_{epochs}epochs_eval\"\n",
        "\n",
        "!python yolov5/val.py \\\n",
        "    --data 'yolov5/data/hard_head.yaml' \\\n",
        "    --img {img_size} \\\n",
        "    --weight '/content/best.pt' \\\n",
        "    --project {proj_name} \\\n",
        "    --name {run_name}"
      ],
      "metadata": {
        "id": "X-hUYoTYTivc",
        "colab": {
          "base_uri": "https://localhost:8080/"
        },
        "outputId": "1ce565b0-d05e-4f37-9670-3697e4b766dd"
      },
      "execution_count": null,
      "outputs": [
        {
          "output_type": "stream",
          "name": "stdout",
          "text": [
            "/content\n",
            "\u001b[34m\u001b[1mval: \u001b[0mdata=yolov5/data/hard_head.yaml, weights=['/content/best.pt'], batch_size=32, imgsz=416, conf_thres=0.001, iou_thres=0.6, task=val, device=, workers=8, single_cls=False, augment=False, verbose=False, save_txt=False, save_hybrid=False, save_conf=False, save_json=False, project=hard-hat-detection, name=yolov5s-model_100epochs, exist_ok=False, half=False, dnn=False\n",
            "YOLOv5 🚀 v6.1-259-ga2a1ed2 Python-3.7.13 torch-1.11.0+cu113 CUDA:0 (Tesla P100-PCIE-16GB, 16281MiB)\n",
            "\n",
            "Fusing layers... \n",
            "Model summary: 213 layers, 7015519 parameters, 0 gradients\n",
            "Downloading https://ultralytics.com/assets/Arial.ttf to /root/.config/Ultralytics/Arial.ttf...\n",
            "100% 755k/755k [00:00<00:00, 17.8MB/s]\n",
            "\u001b[34m\u001b[1mval: \u001b[0mScanning '/content/Dataset/labels/val' images and labels...500 found, 0 missing, 0 empty, 0 corrupt: 100% 500/500 [00:00<00:00, 1834.93it/s]\n",
            "\u001b[34m\u001b[1mval: \u001b[0mNew cache created: /content/Dataset/labels/val.cache\n",
            "               Class     Images     Labels          P          R     mAP@.5 mAP@.5:.95: 100% 16/16 [00:07<00:00,  2.03it/s]\n",
            "                 all        500       2548      0.947      0.907      0.962      0.646\n",
            "              helmet        500       1982      0.965      0.924      0.976      0.657\n",
            "                head        500        566      0.928      0.889      0.949      0.634\n",
            "Speed: 0.1ms pre-process, 1.9ms inference, 4.3ms NMS per image at shape (32, 3, 416, 416)\n",
            "Results saved to \u001b[1mhard-hat-detection/yolov5s-model_100epochs3\u001b[0m\n"
          ]
        }
      ]
    },
    {
      "cell_type": "markdown",
      "source": [
        "# Finish"
      ],
      "metadata": {
        "id": "lD2ixTUNYZ1u"
      }
    },
    {
      "cell_type": "code",
      "source": [
        "wandb.finish(quiet=True)"
      ],
      "metadata": {
        "id": "HxHeHKJ0YZRo",
        "colab": {
          "base_uri": "https://localhost:8080/",
          "height": 69,
          "referenced_widgets": [
            "592094dcb35f4f39a738d8fb444d9a11",
            "e06c4c9d82eb433d85cb9233df46ca09",
            "a254a9bf896d4d33aa691243c14f0694",
            "51d7fcb52584468b9d8ff3168843ed2a",
            "143d63dfe5094124897cdf28396b4d9d",
            "15ed42f393294d94bc83576d51d6b17f",
            "53c42199bc1f4153a72d27bd5c688be5",
            "01b2ea50ad794d0d83e5aababe08a9df"
          ]
        },
        "outputId": "4a274905-6500-4913-e33f-2a968f5e9232"
      },
      "execution_count": null,
      "outputs": [
        {
          "output_type": "display_data",
          "data": {
            "text/plain": [
              "<IPython.core.display.HTML object>"
            ],
            "text/html": [
              "Waiting for W&B process to finish... <strong style=\"color:green\">(success).</strong>"
            ]
          },
          "metadata": {}
        },
        {
          "output_type": "display_data",
          "data": {
            "text/plain": [
              "VBox(children=(Label(value='0.000 MB of 0.000 MB uploaded (0.000 MB deduped)\\r'), FloatProgress(value=1.0, max…"
            ],
            "application/vnd.jupyter.widget-view+json": {
              "version_major": 2,
              "version_minor": 0,
              "model_id": "592094dcb35f4f39a738d8fb444d9a11"
            }
          },
          "metadata": {}
        },
        {
          "output_type": "display_data",
          "data": {
            "text/plain": [
              "<IPython.core.display.HTML object>"
            ],
            "text/html": [
              "Synced <strong style=\"color:#cdcd00\">yolov5s-model_100epochs</strong>: <a href=\"https://wandb.ai/baskoroadi/hard-hat-detection/runs/14j6h14q\" target=\"_blank\">https://wandb.ai/baskoroadi/hard-hat-detection/runs/14j6h14q</a><br/>Synced 3 W&B file(s), 0 media file(s), 0 artifact file(s) and 0 other file(s)"
            ]
          },
          "metadata": {}
        }
      ]
    }
  ]
}